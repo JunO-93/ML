{
  "nbformat": 4,
  "nbformat_minor": 0,
  "metadata": {
    "colab": {
      "name": "f-8-cats-and-dogs-transfer의 사본",
      "version": "0.3.2",
      "provenance": [],
      "collapsed_sections": [],
      "include_colab_link": true
    },
    "kernelspec": {
      "name": "python2",
      "display_name": "Python 2"
    },
    "accelerator": "GPU"
  },
  "cells": [
    {
      "cell_type": "markdown",
      "metadata": {
        "id": "view-in-github",
        "colab_type": "text"
      },
      "source": [
        "<a href=\"https://colab.research.google.com/github/Ssaragi/ML/blob/master/15%EC%A3%BC%EC%B0%A8_%EC%8B%A4%EC%8A%B5%EA%B3%BC%EC%A0%9C_201213380_%EC%9D%B4%EC%A4%80%EC%98%A4_transfer.ipynb\" target=\"_parent\"><img src=\"https://colab.research.google.com/assets/colab-badge.svg\" alt=\"Open In Colab\"/></a>"
      ]
    },
    {
      "metadata": {
        "colab_type": "text",
        "id": "YHK6DyunSbs4"
      },
      "cell_type": "markdown",
      "source": [
        "# 전이학습 고양이 강아지 구분\n",
        "## VGG16 (2014)\n",
        "- 이미지넷으로 사전 훈련된 네트워크를 사용\n",
        "- 1000개의 객체를 구분하는 모델이나, 여기서는 고양이, 강아지 구분에 사용  \n",
        "\n",
        "## 1) 특성추출 방식\n",
        "- 합성곱 필터링 영역(convolutional base)를 그대로 사용\n",
        "- 공통되는 특성만 추출하여 사용한다\n",
        "- 전결합망 부분은 새로운 데이터 (고양이/강아지)로 학습을 다시 시킨다\n",
        "\n",
        "\n",
        "## 2) 미세 조정 방식\n"
      ]
    },
    {
      "metadata": {
        "colab_type": "text",
        "id": "UY6KJV6z6l7_"
      },
      "cell_type": "markdown",
      "source": [
        "## 데이터 다운로드"
      ]
    },
    {
      "metadata": {
        "id": "BintRJjr1QvS",
        "colab_type": "code",
        "outputId": "1cbbc4e4-90b4-42a6-cab8-0c4995160a03",
        "colab": {
          "base_uri": "https://localhost:8080/",
          "height": 35
        }
      },
      "cell_type": "code",
      "source": [
        "import os, os.path, shutil\n",
        "import zipfile\n",
        "%matplotlib inline\n",
        "\n",
        "import matplotlib.pyplot as plt\n",
        "import matplotlib.image as mpimg\n",
        "from keras.applications import VGG16"
      ],
      "execution_count": 1,
      "outputs": [
        {
          "output_type": "stream",
          "text": [
            "Using TensorFlow backend.\n"
          ],
          "name": "stderr"
        }
      ]
    },
    {
      "metadata": {
        "id": "mxOElr1tG82n",
        "colab_type": "text"
      },
      "cell_type": "markdown",
      "source": [
        "## VGG16으로 사전학습된 가중치 가져오기\n",
        "- include_top은 기존의 1000개 전결합망 분류기를 포함할지를 선택"
      ]
    },
    {
      "metadata": {
        "id": "39bxJu-BGL9N",
        "colab_type": "code",
        "colab": {
          "base_uri": "https://localhost:8080/",
          "height": 71
        },
        "outputId": "265f28e6-cfe1-4950-eadb-3421f345de39"
      },
      "cell_type": "code",
      "source": [
        "conv_base = VGG16(weights = 'imagenet',\n",
        "                 include_top=False,\n",
        "                 input_shape=(150, 150, 3))"
      ],
      "execution_count": 2,
      "outputs": [
        {
          "output_type": "stream",
          "text": [
            "Downloading data from https://github.com/fchollet/deep-learning-models/releases/download/v0.1/vgg16_weights_tf_dim_ordering_tf_kernels_notop.h5\n",
            "58892288/58889256 [==============================] - 2s 0us/step\n",
            "58900480/58889256 [==============================] - 2s 0us/step\n"
          ],
          "name": "stdout"
        }
      ]
    },
    {
      "metadata": {
        "id": "84MocF__GLuw",
        "colab_type": "code",
        "outputId": "02fb5bbc-dc85-43e6-b261-21ac6b3aeb6b",
        "colab": {
          "base_uri": "https://localhost:8080/",
          "height": 827
        }
      },
      "cell_type": "code",
      "source": [
        "conv_base.summary()"
      ],
      "execution_count": 4,
      "outputs": [
        {
          "output_type": "stream",
          "text": [
            "_________________________________________________________________\n",
            "Layer (type)                 Output Shape              Param #   \n",
            "=================================================================\n",
            "input_1 (InputLayer)         (None, 150, 150, 3)       0         \n",
            "_________________________________________________________________\n",
            "block1_conv1 (Conv2D)        (None, 150, 150, 64)      1792      \n",
            "_________________________________________________________________\n",
            "block1_conv2 (Conv2D)        (None, 150, 150, 64)      36928     \n",
            "_________________________________________________________________\n",
            "block1_pool (MaxPooling2D)   (None, 75, 75, 64)        0         \n",
            "_________________________________________________________________\n",
            "block2_conv1 (Conv2D)        (None, 75, 75, 128)       73856     \n",
            "_________________________________________________________________\n",
            "block2_conv2 (Conv2D)        (None, 75, 75, 128)       147584    \n",
            "_________________________________________________________________\n",
            "block2_pool (MaxPooling2D)   (None, 37, 37, 128)       0         \n",
            "_________________________________________________________________\n",
            "block3_conv1 (Conv2D)        (None, 37, 37, 256)       295168    \n",
            "_________________________________________________________________\n",
            "block3_conv2 (Conv2D)        (None, 37, 37, 256)       590080    \n",
            "_________________________________________________________________\n",
            "block3_conv3 (Conv2D)        (None, 37, 37, 256)       590080    \n",
            "_________________________________________________________________\n",
            "block3_pool (MaxPooling2D)   (None, 18, 18, 256)       0         \n",
            "_________________________________________________________________\n",
            "block4_conv1 (Conv2D)        (None, 18, 18, 512)       1180160   \n",
            "_________________________________________________________________\n",
            "block4_conv2 (Conv2D)        (None, 18, 18, 512)       2359808   \n",
            "_________________________________________________________________\n",
            "block4_conv3 (Conv2D)        (None, 18, 18, 512)       2359808   \n",
            "_________________________________________________________________\n",
            "block4_pool (MaxPooling2D)   (None, 9, 9, 512)         0         \n",
            "_________________________________________________________________\n",
            "block5_conv1 (Conv2D)        (None, 9, 9, 512)         2359808   \n",
            "_________________________________________________________________\n",
            "block5_conv2 (Conv2D)        (None, 9, 9, 512)         2359808   \n",
            "_________________________________________________________________\n",
            "block5_conv3 (Conv2D)        (None, 9, 9, 512)         2359808   \n",
            "_________________________________________________________________\n",
            "block5_pool (MaxPooling2D)   (None, 4, 4, 512)         0         \n",
            "=================================================================\n",
            "Total params: 14,714,688\n",
            "Trainable params: 14,714,688\n",
            "Non-trainable params: 0\n",
            "_________________________________________________________________\n"
          ],
          "name": "stdout"
        }
      ]
    },
    {
      "metadata": {
        "id": "wLStHmXaMqja",
        "colab_type": "text"
      },
      "cell_type": "markdown",
      "source": [
        "## 두가지 옵션이 가능하다\n",
        "### 1) 합성곱 기반을 통과한 출력을 저장한 후 이를 전결합망에 통과\n",
        "- 데이터 확장은 사용할 수 없다\n",
        "- 실행이 빠르다\n",
        "\n",
        "### 2) 모델에 Dense망을 추가하고 학습을 수행\n",
        "- 데이터 확장을 사용할 수 있다.\n",
        "- 비용이 많이 든다\n",
        "\n",
        "\n",
        "### 1) 방식을 먼저 수행한다.\n"
      ]
    },
    {
      "metadata": {
        "id": "kkMqucDvN0Qy",
        "colab_type": "text"
      },
      "cell_type": "markdown",
      "source": [
        "### 데이터 읽기"
      ]
    },
    {
      "metadata": {
        "id": "r9hD7mAvGLVZ",
        "colab_type": "code",
        "colab": {}
      },
      "cell_type": "code",
      "source": [
        ""
      ],
      "execution_count": 0,
      "outputs": []
    },
    {
      "metadata": {
        "id": "JHHE2t4yxpMU",
        "colab_type": "code",
        "colab": {
          "base_uri": "https://localhost:8080/",
          "height": 215
        },
        "outputId": "0253fc9c-dfe5-4362-db2c-753ddcde6d92"
      },
      "cell_type": "code",
      "source": [
        "if not os.path.exists(\"./data\"):\n",
        "    os.makedirs(\"./data\")\n",
        "if not os.path.exists(\"./data/cats_and_dogs_filtered.zip\"):\n",
        "  !wget --no-check-certificate \\\n",
        "    https://storage.googleapis.com/mledu-datasets/cats_and_dogs_filtered.zip \\\n",
        "    -O ./data/cats_and_dogs_filtered.zip"
      ],
      "execution_count": 5,
      "outputs": [
        {
          "output_type": "stream",
          "text": [
            "--2018-12-11 08:11:22--  https://storage.googleapis.com/mledu-datasets/cats_and_dogs_filtered.zip\n",
            "Resolving storage.googleapis.com (storage.googleapis.com)... 74.125.20.128, 2607:f8b0:400e:c08::80\n",
            "Connecting to storage.googleapis.com (storage.googleapis.com)|74.125.20.128|:443... connected.\n",
            "HTTP request sent, awaiting response... 200 OK\n",
            "Length: 68606236 (65M) [application/zip]\n",
            "Saving to: ‘./data/cats_and_dogs_filtered.zip’\n",
            "\n",
            "./data/cats_and_dog 100%[===================>]  65.43M  78.4MB/s    in 0.8s    \n",
            "\n",
            "2018-12-11 08:11:23 (78.4 MB/s) - ‘./data/cats_and_dogs_filtered.zip’ saved [68606236/68606236]\n",
            "\n"
          ],
          "name": "stdout"
        }
      ]
    },
    {
      "metadata": {
        "id": "rB0mr2KJzs3M",
        "colab_type": "code",
        "outputId": "fb96c004-9296-4773-f24d-f8e68b28eaf4",
        "colab": {
          "base_uri": "https://localhost:8080/",
          "height": 35
        }
      },
      "cell_type": "code",
      "source": [
        "!ls data"
      ],
      "execution_count": 6,
      "outputs": [
        {
          "output_type": "stream",
          "text": [
            "cats_and_dogs_filtered.zip\n"
          ],
          "name": "stdout"
        }
      ]
    },
    {
      "metadata": {
        "colab_type": "code",
        "id": "PLy3pthUS0D2",
        "colab": {}
      },
      "cell_type": "code",
      "source": [
        "local_zip = './data/cats_and_dogs_filtered.zip'\n",
        "zip_ref = zipfile.ZipFile(local_zip, 'r')\n",
        "zip_ref.extractall('./data')\n",
        "zip_ref.close()"
      ],
      "execution_count": 0,
      "outputs": []
    },
    {
      "metadata": {
        "id": "VeJd7lxOy26s",
        "colab_type": "code",
        "outputId": "a8dd0805-cfee-40d2-807e-ec9ca357e721",
        "colab": {
          "base_uri": "https://localhost:8080/",
          "height": 305
        }
      },
      "cell_type": "code",
      "source": [
        "!apt-get install tree"
      ],
      "execution_count": 8,
      "outputs": [
        {
          "output_type": "stream",
          "text": [
            "Reading package lists... Done\n",
            "Building dependency tree       \n",
            "Reading state information... Done\n",
            "The following NEW packages will be installed:\n",
            "  tree\n",
            "0 upgraded, 1 newly installed, 0 to remove and 10 not upgraded.\n",
            "Need to get 40.7 kB of archives.\n",
            "After this operation, 105 kB of additional disk space will be used.\n",
            "Get:1 http://archive.ubuntu.com/ubuntu bionic/universe amd64 tree amd64 1.7.0-5 [40.7 kB]\n",
            "Fetched 40.7 kB in 1s (78.7 kB/s)\n",
            "Selecting previously unselected package tree.\n",
            "(Reading database ... 26397 files and directories currently installed.)\n",
            "Preparing to unpack .../tree_1.7.0-5_amd64.deb ...\n",
            "Unpacking tree (1.7.0-5) ...\n",
            "Setting up tree (1.7.0-5) ...\n",
            "Processing triggers for man-db (2.8.3-2ubuntu0.1) ...\n"
          ],
          "name": "stdout"
        }
      ]
    },
    {
      "metadata": {
        "id": "eKBizBLr0M8w",
        "colab_type": "code",
        "outputId": "a2403af4-feff-4913-97e3-0acc56b1c381",
        "colab": {
          "base_uri": "https://localhost:8080/",
          "height": 233
        }
      },
      "cell_type": "code",
      "source": [
        "!tree -d ."
      ],
      "execution_count": 9,
      "outputs": [
        {
          "output_type": "stream",
          "text": [
            ".\n",
            "├── data\n",
            "│   └── cats_and_dogs_filtered\n",
            "│       ├── train\n",
            "│       │   ├── cats\n",
            "│       │   └── dogs\n",
            "│       └── validation\n",
            "│           ├── cats\n",
            "│           └── dogs\n",
            "└── sample_data\n",
            "\n",
            "9 directories\n"
          ],
          "name": "stdout"
        }
      ]
    },
    {
      "metadata": {
        "colab_type": "code",
        "id": "MLZKVtE0dSfk",
        "colab": {}
      },
      "cell_type": "code",
      "source": [
        "base_dir = './data/cats_and_dogs_filtered'\n",
        "train_dir = os.path.join(base_dir, 'train')\n",
        "validation_dir = os.path.join(base_dir, 'validation')"
      ],
      "execution_count": 0,
      "outputs": []
    },
    {
      "metadata": {
        "id": "I-gqmVtXI1If",
        "colab_type": "code",
        "outputId": "0fe1b382-6884-45cb-81ba-8af237939ab9",
        "colab": {
          "base_uri": "https://localhost:8080/",
          "height": 35
        }
      },
      "cell_type": "code",
      "source": [
        "train_dir"
      ],
      "execution_count": 11,
      "outputs": [
        {
          "output_type": "execute_result",
          "data": {
            "text/plain": [
              "'./data/cats_and_dogs_filtered/train'"
            ]
          },
          "metadata": {
            "tags": []
          },
          "execution_count": 11
        }
      ]
    },
    {
      "metadata": {
        "colab_type": "text",
        "id": "5oqBkNBJmtUv"
      },
      "cell_type": "markdown",
      "source": [
        "## 특성추출만 사용한 모델 (데이터 증식은 사용하지 않는 방식)\n",
        "- ImageDataGenerator를 사용하여 이미지와 레이블을 생성\n",
        "- conv_base 모델의 predict를 사용하여 이미지의 특성을 추출\n",
        "- 마지막 출력의 크기가 (4, 4, 512)이다.\n"
      ]
    },
    {
      "metadata": {
        "colab_type": "code",
        "id": "IYVLSfbsbf9K",
        "colab": {}
      },
      "cell_type": "code",
      "source": [
        "from keras import layers\n",
        "from keras import models\n",
        "from keras import optimizers\n",
        "from keras.preprocessing import image\n",
        "from keras.preprocessing.image import ImageDataGenerator\n",
        "import numpy as np "
      ],
      "execution_count": 0,
      "outputs": []
    },
    {
      "metadata": {
        "id": "zKpFv6lSGmtR",
        "colab_type": "code",
        "outputId": "09c6e555-c370-4550-a776-839c8082fb70",
        "colab": {
          "base_uri": "https://localhost:8080/",
          "height": 287
        }
      },
      "cell_type": "code",
      "source": [
        "img_width = 150\n",
        "img_height = 150\n",
        "batch_size=20\n",
        "\n",
        "datagen = ImageDataGenerator(rescale = 1./255)\n",
        "\n",
        "def extract_features(directory, sample_count):\n",
        "  features = np.zeros(shape=(sample_count, 4, 4, 512))\n",
        "  labels = np.zeros(shape=(sample_count))\n",
        "  generator = datagen.flow_from_directory(\n",
        "      directory,\n",
        " \t    target_size=(img_width,img_height),\n",
        "      class_mode='binary',\n",
        "\t\t\tbatch_size=batch_size)\n",
        "  i=1\n",
        "  for inputs_batch, labels_batch in generator:\n",
        "    features_batch = conv_base.predict(inputs_batch)\n",
        "    features[i*batch_size:(i+1)*batch_size] = features_batch\n",
        "    labels[i*batch_size:(i+1)*batch_size] = labels_batch\n",
        "    i += 1\n",
        "    if i* batch_size >= sample_count:\n",
        "      break\n",
        "  return features, labels\n",
        "\n",
        "train_features, train_labels = extract_features(train_dir, 2000)\n",
        "validation_features, validation_labels = extract_features(validation_dir, 1000)\n",
        "\n",
        "train_features = np.reshape(train_features, (2000, 4*4*512))\n",
        "validation_features = np.reshape(validation_features, (1000, 4*4*512))\n",
        "\n",
        "    \n",
        "model = models.Sequential()\n",
        "\n",
        "model.add(layers.Dense(512, activation='relu', input_dim= 4*4*512))\n",
        "model.add(layers.Dropout(0.5))\n",
        "model.add(layers.Dense(1, activation='sigmoid'))\n",
        "\n",
        "model.summary()"
      ],
      "execution_count": 13,
      "outputs": [
        {
          "output_type": "stream",
          "text": [
            "Found 2000 images belonging to 2 classes.\n",
            "Found 1000 images belonging to 2 classes.\n",
            "_________________________________________________________________\n",
            "Layer (type)                 Output Shape              Param #   \n",
            "=================================================================\n",
            "dense_1 (Dense)              (None, 512)               4194816   \n",
            "_________________________________________________________________\n",
            "dropout_1 (Dropout)          (None, 512)               0         \n",
            "_________________________________________________________________\n",
            "dense_2 (Dense)              (None, 1)                 513       \n",
            "=================================================================\n",
            "Total params: 4,195,329\n",
            "Trainable params: 4,195,329\n",
            "Non-trainable params: 0\n",
            "_________________________________________________________________\n"
          ],
          "name": "stdout"
        }
      ]
    },
    {
      "metadata": {
        "id": "hxITBhxQDwkd",
        "colab_type": "code",
        "outputId": "22cd4a31-530a-4ef8-ee3a-214ac026dc7e",
        "colab": {
          "base_uri": "https://localhost:8080/",
          "height": 1115
        }
      },
      "cell_type": "code",
      "source": [
        "model.compile(loss='binary_crossentropy',\n",
        "              optimizer=optimizers.RMSprop(lr=2e-5),\n",
        "              metrics=['acc'])\n",
        "history = model.fit(\n",
        "    train_features, train_labels,\n",
        "    epochs=30,\n",
        "    validation_data= (validation_features, validation_labels),\n",
        "    batch_size=batch_size)"
      ],
      "execution_count": 14,
      "outputs": [
        {
          "output_type": "stream",
          "text": [
            "Train on 2000 samples, validate on 1000 samples\n",
            "Epoch 1/30\n",
            "2000/2000 [==============================] - 2s 1ms/step - loss: 0.5759 - acc: 0.6865 - val_loss: 0.4062 - val_acc: 0.8450\n",
            "Epoch 2/30\n",
            "2000/2000 [==============================] - 1s 546us/step - loss: 0.3903 - acc: 0.8300 - val_loss: 0.3350 - val_acc: 0.8690\n",
            "Epoch 3/30\n",
            "2000/2000 [==============================] - 1s 539us/step - loss: 0.3262 - acc: 0.8645 - val_loss: 0.3191 - val_acc: 0.8670\n",
            "Epoch 4/30\n",
            "2000/2000 [==============================] - 1s 543us/step - loss: 0.2908 - acc: 0.8810 - val_loss: 0.2961 - val_acc: 0.8810\n",
            "Epoch 5/30\n",
            "2000/2000 [==============================] - 1s 535us/step - loss: 0.2659 - acc: 0.8945 - val_loss: 0.2888 - val_acc: 0.8790\n",
            "Epoch 6/30\n",
            "2000/2000 [==============================] - 1s 539us/step - loss: 0.2422 - acc: 0.9090 - val_loss: 0.2820 - val_acc: 0.8790\n",
            "Epoch 7/30\n",
            "2000/2000 [==============================] - 1s 543us/step - loss: 0.2206 - acc: 0.9145 - val_loss: 0.2756 - val_acc: 0.8800\n",
            "Epoch 8/30\n",
            "2000/2000 [==============================] - 1s 544us/step - loss: 0.2155 - acc: 0.9215 - val_loss: 0.2725 - val_acc: 0.8800\n",
            "Epoch 9/30\n",
            "2000/2000 [==============================] - 1s 543us/step - loss: 0.1950 - acc: 0.9325 - val_loss: 0.2648 - val_acc: 0.8910\n",
            "Epoch 10/30\n",
            "2000/2000 [==============================] - 1s 556us/step - loss: 0.1828 - acc: 0.9340 - val_loss: 0.2630 - val_acc: 0.8940\n",
            "Epoch 11/30\n",
            "2000/2000 [==============================] - 1s 546us/step - loss: 0.1686 - acc: 0.9435 - val_loss: 0.2648 - val_acc: 0.8900\n",
            "Epoch 12/30\n",
            "2000/2000 [==============================] - 1s 549us/step - loss: 0.1583 - acc: 0.9470 - val_loss: 0.2661 - val_acc: 0.8880\n",
            "Epoch 13/30\n",
            "2000/2000 [==============================] - 1s 542us/step - loss: 0.1528 - acc: 0.9450 - val_loss: 0.2634 - val_acc: 0.8940\n",
            "Epoch 14/30\n",
            "2000/2000 [==============================] - 1s 545us/step - loss: 0.1401 - acc: 0.9520 - val_loss: 0.2587 - val_acc: 0.8940\n",
            "Epoch 15/30\n",
            "2000/2000 [==============================] - 1s 542us/step - loss: 0.1379 - acc: 0.9545 - val_loss: 0.2594 - val_acc: 0.8910\n",
            "Epoch 16/30\n",
            "2000/2000 [==============================] - 1s 539us/step - loss: 0.1305 - acc: 0.9590 - val_loss: 0.2594 - val_acc: 0.8910\n",
            "Epoch 17/30\n",
            "2000/2000 [==============================] - 1s 541us/step - loss: 0.1247 - acc: 0.9635 - val_loss: 0.2605 - val_acc: 0.8900\n",
            "Epoch 18/30\n",
            "2000/2000 [==============================] - 1s 542us/step - loss: 0.1180 - acc: 0.9610 - val_loss: 0.2609 - val_acc: 0.8900\n",
            "Epoch 19/30\n",
            "2000/2000 [==============================] - 1s 546us/step - loss: 0.1089 - acc: 0.9660 - val_loss: 0.2697 - val_acc: 0.8950\n",
            "Epoch 20/30\n",
            "2000/2000 [==============================] - 1s 540us/step - loss: 0.1060 - acc: 0.9670 - val_loss: 0.2618 - val_acc: 0.8920\n",
            "Epoch 21/30\n",
            "2000/2000 [==============================] - 1s 542us/step - loss: 0.1002 - acc: 0.9720 - val_loss: 0.2647 - val_acc: 0.8900\n",
            "Epoch 22/30\n",
            "2000/2000 [==============================] - 1s 541us/step - loss: 0.0983 - acc: 0.9690 - val_loss: 0.2658 - val_acc: 0.8930\n",
            "Epoch 23/30\n",
            "2000/2000 [==============================] - 1s 531us/step - loss: 0.0874 - acc: 0.9790 - val_loss: 0.2653 - val_acc: 0.8910\n",
            "Epoch 24/30\n",
            "2000/2000 [==============================] - 1s 541us/step - loss: 0.0866 - acc: 0.9790 - val_loss: 0.2828 - val_acc: 0.8970\n",
            "Epoch 25/30\n",
            "2000/2000 [==============================] - 1s 544us/step - loss: 0.0847 - acc: 0.9795 - val_loss: 0.2679 - val_acc: 0.8900\n",
            "Epoch 26/30\n",
            "2000/2000 [==============================] - 1s 545us/step - loss: 0.0783 - acc: 0.9780 - val_loss: 0.2707 - val_acc: 0.8920\n",
            "Epoch 27/30\n",
            "2000/2000 [==============================] - 1s 536us/step - loss: 0.0751 - acc: 0.9810 - val_loss: 0.2684 - val_acc: 0.8940\n",
            "Epoch 28/30\n",
            "2000/2000 [==============================] - 1s 541us/step - loss: 0.0735 - acc: 0.9815 - val_loss: 0.2716 - val_acc: 0.8930\n",
            "Epoch 29/30\n",
            "2000/2000 [==============================] - 1s 542us/step - loss: 0.0687 - acc: 0.9860 - val_loss: 0.2725 - val_acc: 0.8920\n",
            "Epoch 30/30\n",
            "2000/2000 [==============================] - 1s 545us/step - loss: 0.0655 - acc: 0.9850 - val_loss: 0.2733 - val_acc: 0.8910\n"
          ],
          "name": "stdout"
        }
      ]
    },
    {
      "metadata": {
        "colab_type": "text",
        "id": "Q5Vulban4ZrD"
      },
      "cell_type": "markdown",
      "source": [
        "## 성능 확인"
      ]
    },
    {
      "metadata": {
        "colab_type": "code",
        "id": "0oj0gTIy4k60",
        "outputId": "c8db54a3-8a42-4fe8-d99c-7538ad46b714",
        "colab": {
          "base_uri": "https://localhost:8080/",
          "height": 561
        }
      },
      "cell_type": "code",
      "source": [
        "acc = history.history['acc']\n",
        "val_acc = history.history['val_acc']\n",
        "\n",
        "loss = history.history['loss']\n",
        "val_loss = history.history['val_loss']\n",
        "\n",
        "epochs = range(len(acc))\n",
        "\n",
        "plt.plot(epochs, acc)\n",
        "plt.plot(epochs, val_acc)\n",
        "plt.title('Training and validation accuracy')\n",
        "\n",
        "plt.figure()\n",
        "\n",
        "plt.plot(epochs, loss)\n",
        "plt.plot(epochs, val_loss)\n",
        "plt.title('Training and validation loss')"
      ],
      "execution_count": 15,
      "outputs": [
        {
          "output_type": "execute_result",
          "data": {
            "text/plain": [
              "Text(0.5,1,u'Training and validation loss')"
            ]
          },
          "metadata": {
            "tags": []
          },
          "execution_count": 15
        },
        {
          "output_type": "display_data",
          "data": {
            "image/png": "[encoded data removed]",
            "text/plain": [
              "<matplotlib.figure.Figure at 0x7f70b5abf990>"
            ]
          },
          "metadata": {
            "tags": []
          }
        },
        {
          "output_type": "display_data",
          "data": {
            "image/png": "[encoded data removed]",
            "text/plain": [
              "<matplotlib.figure.Figure at 0x7f70b5a2a7d0>"
            ]
          },
          "metadata": {
            "tags": []
          }
        }
      ]
    },
    {
      "metadata": {
        "colab_type": "text",
        "id": "DgmSjUST4qoS"
      },
      "cell_type": "markdown",
      "source": [
        "### 과대적합이 발생한 것을 알 수 있다.\n",
        "- 훈련 데이터가 부족하다\n",
        "- 데이터 확장을 사용하여 개선할 수 있다."
      ]
    },
    {
      "metadata": {
        "id": "zY8xC3RKIMjf",
        "colab_type": "text"
      },
      "cell_type": "markdown",
      "source": [
        "### 2) 모델에 Dense망을 추가하고 학습을 수행\n",
        "- 데이터 확장을 사용할 수 있다.\n",
        "- 비용이 많이 든다\n",
        "- 엔드-투-엔드로 실행한다"
      ]
    },
    {
      "metadata": {
        "id": "dEPZtbjoYyko",
        "colab_type": "code",
        "outputId": "02a61b24-8c52-42da-f206-0c9a79e1be95",
        "colab": {
          "base_uri": "https://localhost:8080/",
          "height": 287
        }
      },
      "cell_type": "code",
      "source": [
        "# 모델\n",
        "\n",
        "model = models.Sequential()\n",
        "model.add(conv_base)\n",
        "\n",
        "model.add(layers.Flatten())\n",
        "model.add(layers.Dense(256, activation='relu'))\n",
        "model.add(layers.Dense(1, activation='sigmoid'))\n",
        "\n",
        "model.summary()"
      ],
      "execution_count": 16,
      "outputs": [
        {
          "output_type": "stream",
          "text": [
            "_________________________________________________________________\n",
            "Layer (type)                 Output Shape              Param #   \n",
            "=================================================================\n",
            "vgg16 (Model)                (None, 4, 4, 512)         14714688  \n",
            "_________________________________________________________________\n",
            "flatten_1 (Flatten)          (None, 8192)              0         \n",
            "_________________________________________________________________\n",
            "dense_3 (Dense)              (None, 256)               2097408   \n",
            "_________________________________________________________________\n",
            "dense_4 (Dense)              (None, 1)                 257       \n",
            "=================================================================\n",
            "Total params: 16,812,353\n",
            "Trainable params: 16,812,353\n",
            "Non-trainable params: 0\n",
            "_________________________________________________________________\n"
          ],
          "name": "stdout"
        }
      ]
    },
    {
      "metadata": {
        "id": "cRwp7DKRZNey",
        "colab_type": "text"
      },
      "cell_type": "markdown",
      "source": [
        "## 학습을 동결하지 않으면 모두 재 학습된다!"
      ]
    },
    {
      "metadata": {
        "id": "81xIo14SZaM_",
        "colab_type": "code",
        "outputId": "7d205fd7-6302-4c27-c361-680b947f8c74",
        "colab": {
          "base_uri": "https://localhost:8080/",
          "height": 35
        }
      },
      "cell_type": "code",
      "source": [
        "print(len(model.trainable_weights))"
      ],
      "execution_count": 17,
      "outputs": [
        {
          "output_type": "stream",
          "text": [
            "30\n"
          ],
          "name": "stdout"
        }
      ]
    },
    {
      "metadata": {
        "id": "1I-bJVROjbEi",
        "colab_type": "code",
        "colab": {}
      },
      "cell_type": "code",
      "source": [
        "conv_base.trainable = False"
      ],
      "execution_count": 0,
      "outputs": []
    },
    {
      "metadata": {
        "id": "MN5_TfDJjisU",
        "colab_type": "code",
        "outputId": "9bbae6c2-a9b9-4135-e807-d71c8bfc72e3",
        "colab": {
          "base_uri": "https://localhost:8080/",
          "height": 35
        }
      },
      "cell_type": "code",
      "source": [
        "print(len(model.trainable_weights))"
      ],
      "execution_count": 19,
      "outputs": [
        {
          "output_type": "stream",
          "text": [
            "4\n"
          ],
          "name": "stdout"
        }
      ]
    },
    {
      "metadata": {
        "id": "OUz97nA0jr_y",
        "colab_type": "code",
        "outputId": "b87b7b48-9d06-456a-a588-90b68ad09815",
        "colab": {
          "base_uri": "https://localhost:8080/",
          "height": 287
        }
      },
      "cell_type": "code",
      "source": [
        "model.summary()"
      ],
      "execution_count": 20,
      "outputs": [
        {
          "output_type": "stream",
          "text": [
            "_________________________________________________________________\n",
            "Layer (type)                 Output Shape              Param #   \n",
            "=================================================================\n",
            "vgg16 (Model)                (None, 4, 4, 512)         14714688  \n",
            "_________________________________________________________________\n",
            "flatten_1 (Flatten)          (None, 8192)              0         \n",
            "_________________________________________________________________\n",
            "dense_3 (Dense)              (None, 256)               2097408   \n",
            "_________________________________________________________________\n",
            "dense_4 (Dense)              (None, 1)                 257       \n",
            "=================================================================\n",
            "Total params: 16,812,353\n",
            "Trainable params: 2,097,665\n",
            "Non-trainable params: 14,714,688\n",
            "_________________________________________________________________\n"
          ],
          "name": "stdout"
        }
      ]
    },
    {
      "metadata": {
        "id": "E68OZRcKkQoU",
        "colab_type": "text"
      },
      "cell_type": "markdown",
      "source": [
        "### 컴파일을 수행해야 변경사항이 적용된다"
      ]
    },
    {
      "metadata": {
        "id": "uG0pDWWMHKkk",
        "colab_type": "code",
        "outputId": "fa220b75-453a-4f1a-e81c-51f58e356098",
        "colab": {
          "base_uri": "https://localhost:8080/",
          "height": 53
        }
      },
      "cell_type": "code",
      "source": [
        "train_datagen = ImageDataGenerator(\n",
        "  rescale= 1./255,\n",
        "  rotation_range = 40,\n",
        "  width_shift_range = 0.2,\n",
        "  height_shift_range = 0.2,\n",
        "  shear_range=0.2,\n",
        "  zoom_range=0.2,\n",
        "  horizontal_flip = True,\n",
        "  fill_mode='nearest')\n",
        "\n",
        "validation_datagen = ImageDataGenerator(rescale = 1./255)\n",
        "\n",
        "train_generator = train_datagen.flow_from_directory(directory=train_dir,\n",
        "\t\t\t\t\t\t\t\t\t\t\t   target_size=(img_width,img_height),\n",
        "\t\t\t\t\t\t\t\t\t\t\t   class_mode='binary',\n",
        "\t\t\t\t\t\t\t\t\t\t\t   batch_size=20)\n",
        "\n",
        "validation_generator = validation_datagen.flow_from_directory(directory=validation_dir,\n",
        "\t\t\t\t\t\t\t\t\t\t\t   target_size=(img_width,img_height),\n",
        "\t\t\t\t\t\t\t\t\t\t\t   class_mode='binary',\n",
        "\t\t\t\t\t\t\t\t\t\t\t   batch_size=20)\n",
        "\n",
        "\n"
      ],
      "execution_count": 21,
      "outputs": [
        {
          "output_type": "stream",
          "text": [
            "Found 2000 images belonging to 2 classes.\n",
            "Found 1000 images belonging to 2 classes.\n"
          ],
          "name": "stdout"
        }
      ]
    },
    {
      "metadata": {
        "id": "PNj36PXplaCx",
        "colab_type": "text"
      },
      "cell_type": "markdown",
      "source": [
        "### 과대적합이 줄어든 것을 볼 수 있다."
      ]
    },
    {
      "metadata": {
        "id": "Cpgy1ZUjHKhU",
        "colab_type": "code",
        "outputId": "7d8c4816-9bf0-4f8b-ce69-3eab80fabc2d",
        "colab": {
          "base_uri": "https://localhost:8080/",
          "height": 1097
        }
      },
      "cell_type": "code",
      "source": [
        "model.compile(loss='binary_crossentropy',\n",
        "              optimizer=optimizers.RMSprop(lr=2e-5),\n",
        "              metrics=['acc'])\n",
        "\n",
        "\n",
        "history = model.fit_generator(\n",
        "    generator=train_generator, \n",
        "    steps_per_epoch=100,\n",
        "    epochs=30,\n",
        "    validation_data=validation_generator,\n",
        "    validation_steps=50)"
      ],
      "execution_count": 22,
      "outputs": [
        {
          "output_type": "stream",
          "text": [
            "Epoch 1/30\n",
            "100/100 [==============================] - 28s 282ms/step - loss: 0.5794 - acc: 0.6975 - val_loss: 0.4309 - val_acc: 0.8200\n",
            "Epoch 2/30\n",
            "100/100 [==============================] - 26s 261ms/step - loss: 0.4824 - acc: 0.7750 - val_loss: 0.3793 - val_acc: 0.8330\n",
            "Epoch 3/30\n",
            "100/100 [==============================] - 26s 260ms/step - loss: 0.4278 - acc: 0.8140 - val_loss: 0.3347 - val_acc: 0.8580\n",
            "Epoch 4/30\n",
            "100/100 [==============================] - 26s 261ms/step - loss: 0.4053 - acc: 0.8225 - val_loss: 0.3219 - val_acc: 0.8610\n",
            "Epoch 5/30\n",
            "100/100 [==============================] - 26s 258ms/step - loss: 0.3871 - acc: 0.8325 - val_loss: 0.3162 - val_acc: 0.8630\n",
            "Epoch 6/30\n",
            "100/100 [==============================] - 26s 258ms/step - loss: 0.3738 - acc: 0.8365 - val_loss: 0.3050 - val_acc: 0.8660\n",
            "Epoch 7/30\n",
            "100/100 [==============================] - 26s 258ms/step - loss: 0.3537 - acc: 0.8455 - val_loss: 0.2798 - val_acc: 0.8800\n",
            "Epoch 8/30\n",
            "100/100 [==============================] - 26s 258ms/step - loss: 0.3507 - acc: 0.8395 - val_loss: 0.2782 - val_acc: 0.8790\n",
            "Epoch 9/30\n",
            "100/100 [==============================] - 26s 258ms/step - loss: 0.3447 - acc: 0.8415 - val_loss: 0.2760 - val_acc: 0.8880\n",
            "Epoch 10/30\n",
            "100/100 [==============================] - 26s 258ms/step - loss: 0.3307 - acc: 0.8555 - val_loss: 0.2747 - val_acc: 0.8850\n",
            "Epoch 11/30\n",
            "100/100 [==============================] - 26s 258ms/step - loss: 0.3344 - acc: 0.8525 - val_loss: 0.2927 - val_acc: 0.8760\n",
            "Epoch 12/30\n",
            "100/100 [==============================] - 26s 258ms/step - loss: 0.3199 - acc: 0.8630 - val_loss: 0.2610 - val_acc: 0.8900\n",
            "Epoch 13/30\n",
            "100/100 [==============================] - 26s 257ms/step - loss: 0.3277 - acc: 0.8580 - val_loss: 0.2658 - val_acc: 0.8880\n",
            "Epoch 14/30\n",
            "100/100 [==============================] - 26s 257ms/step - loss: 0.3195 - acc: 0.8570 - val_loss: 0.2696 - val_acc: 0.8900\n",
            "Epoch 15/30\n",
            "100/100 [==============================] - 26s 257ms/step - loss: 0.3178 - acc: 0.8640 - val_loss: 0.2561 - val_acc: 0.8970\n",
            "Epoch 16/30\n",
            "100/100 [==============================] - 26s 258ms/step - loss: 0.3065 - acc: 0.8650 - val_loss: 0.2543 - val_acc: 0.8950\n",
            "Epoch 17/30\n",
            "100/100 [==============================] - 26s 258ms/step - loss: 0.3147 - acc: 0.8630 - val_loss: 0.2644 - val_acc: 0.8850\n",
            "Epoch 18/30\n",
            "100/100 [==============================] - 26s 257ms/step - loss: 0.3015 - acc: 0.8675 - val_loss: 0.2787 - val_acc: 0.8860\n",
            "Epoch 19/30\n",
            "100/100 [==============================] - 26s 258ms/step - loss: 0.3023 - acc: 0.8750 - val_loss: 0.2668 - val_acc: 0.8920\n",
            "Epoch 20/30\n",
            "100/100 [==============================] - 26s 257ms/step - loss: 0.2963 - acc: 0.8755 - val_loss: 0.2527 - val_acc: 0.8940\n",
            "Epoch 21/30\n",
            "100/100 [==============================] - 26s 258ms/step - loss: 0.2925 - acc: 0.8690 - val_loss: 0.2544 - val_acc: 0.8940\n",
            "Epoch 22/30\n",
            "100/100 [==============================] - 26s 258ms/step - loss: 0.2931 - acc: 0.8655 - val_loss: 0.2783 - val_acc: 0.8860\n",
            "Epoch 23/30\n",
            "100/100 [==============================] - 26s 258ms/step - loss: 0.2859 - acc: 0.8765 - val_loss: 0.2483 - val_acc: 0.8950\n",
            "Epoch 24/30\n",
            "100/100 [==============================] - 26s 258ms/step - loss: 0.2888 - acc: 0.8805 - val_loss: 0.2494 - val_acc: 0.8930\n",
            "Epoch 25/30\n",
            "100/100 [==============================] - 26s 258ms/step - loss: 0.2941 - acc: 0.8785 - val_loss: 0.2467 - val_acc: 0.8930\n",
            "Epoch 26/30\n",
            "100/100 [==============================] - 26s 259ms/step - loss: 0.2904 - acc: 0.8725 - val_loss: 0.2434 - val_acc: 0.8960\n",
            "Epoch 27/30\n",
            "100/100 [==============================] - 26s 258ms/step - loss: 0.2873 - acc: 0.8700 - val_loss: 0.2464 - val_acc: 0.8960\n",
            "Epoch 28/30\n",
            "100/100 [==============================] - 26s 258ms/step - loss: 0.2833 - acc: 0.8800 - val_loss: 0.2402 - val_acc: 0.8960\n",
            "Epoch 29/30\n",
            "100/100 [==============================] - 26s 258ms/step - loss: 0.2934 - acc: 0.8770 - val_loss: 0.2639 - val_acc: 0.8920\n",
            "Epoch 30/30\n",
            "100/100 [==============================] - 26s 259ms/step - loss: 0.2771 - acc: 0.8860 - val_loss: 0.2584 - val_acc: 0.8930\n"
          ],
          "name": "stdout"
        }
      ]
    },
    {
      "metadata": {
        "id": "5d1NMELUHKd-",
        "colab_type": "code",
        "outputId": "31a4bd46-069d-4c21-dcf5-c1550c7a7310",
        "colab": {
          "base_uri": "https://localhost:8080/",
          "height": 561
        }
      },
      "cell_type": "code",
      "source": [
        "acc = history.history['acc']\n",
        "val_acc = history.history['val_acc']\n",
        "\n",
        "loss = history.history['loss']\n",
        "val_loss = history.history['val_loss']\n",
        "\n",
        "epochs = range(len(acc))\n",
        "\n",
        "plt.plot(epochs, acc)\n",
        "plt.plot(epochs, val_acc)\n",
        "plt.title('Training and validation accuracy')\n",
        "\n",
        "plt.figure()\n",
        "\n",
        "plt.plot(epochs, loss)\n",
        "plt.plot(epochs, val_loss)\n",
        "plt.title('Training and validation loss')"
      ],
      "execution_count": 23,
      "outputs": [
        {
          "output_type": "execute_result",
          "data": {
            "text/plain": [
              "Text(0.5,1,u'Training and validation loss')"
            ]
          },
          "metadata": {
            "tags": []
          },
          "execution_count": 23
        },
        {
          "output_type": "display_data",
          "data": {
            "image/png": "[encoded data removed]",
            "text/plain": [
              "<matplotlib.figure.Figure at 0x7f70b595b590>"
            ]
          },
          "metadata": {
            "tags": []
          }
        },
        {
          "output_type": "display_data",
          "data": {
            "image/png": "[encoded data removed]",
            "text/plain": [
              "<matplotlib.figure.Figure at 0x7f7106f47b90>"
            ]
          },
          "metadata": {
            "tags": []
          }
        }
      ]
    },
    {
      "metadata": {
        "id": "0qC0I1Xglvbp",
        "colab_type": "text"
      },
      "cell_type": "markdown",
      "source": [
        "## 미세조정 방법\n",
        "- 상위 계층 몇개를 재학습시킨다\n",
        "- 앞에서 소개한 절차, 즉, 전결합망(top)부분을 먼저 학습시킨 후에 상위계층의 미세조정을 해야 한다 (한번에 학습하면 안되고 두 단계로 나누어야 함)\n",
        "\n",
        "         "
      ]
    },
    {
      "metadata": {
        "id": "t5XAI5qT2M8W",
        "colab_type": "code",
        "outputId": "56792a63-db13-458a-dae0-6cc6b95d5014",
        "colab": {
          "base_uri": "https://localhost:8080/",
          "height": 827
        }
      },
      "cell_type": "code",
      "source": [
        "conv_base.summary()"
      ],
      "execution_count": 24,
      "outputs": [
        {
          "output_type": "stream",
          "text": [
            "_________________________________________________________________\n",
            "Layer (type)                 Output Shape              Param #   \n",
            "=================================================================\n",
            "input_1 (InputLayer)         (None, 150, 150, 3)       0         \n",
            "_________________________________________________________________\n",
            "block1_conv1 (Conv2D)        (None, 150, 150, 64)      1792      \n",
            "_________________________________________________________________\n",
            "block1_conv2 (Conv2D)        (None, 150, 150, 64)      36928     \n",
            "_________________________________________________________________\n",
            "block1_pool (MaxPooling2D)   (None, 75, 75, 64)        0         \n",
            "_________________________________________________________________\n",
            "block2_conv1 (Conv2D)        (None, 75, 75, 128)       73856     \n",
            "_________________________________________________________________\n",
            "block2_conv2 (Conv2D)        (None, 75, 75, 128)       147584    \n",
            "_________________________________________________________________\n",
            "block2_pool (MaxPooling2D)   (None, 37, 37, 128)       0         \n",
            "_________________________________________________________________\n",
            "block3_conv1 (Conv2D)        (None, 37, 37, 256)       295168    \n",
            "_________________________________________________________________\n",
            "block3_conv2 (Conv2D)        (None, 37, 37, 256)       590080    \n",
            "_________________________________________________________________\n",
            "block3_conv3 (Conv2D)        (None, 37, 37, 256)       590080    \n",
            "_________________________________________________________________\n",
            "block3_pool (MaxPooling2D)   (None, 18, 18, 256)       0         \n",
            "_________________________________________________________________\n",
            "block4_conv1 (Conv2D)        (None, 18, 18, 512)       1180160   \n",
            "_________________________________________________________________\n",
            "block4_conv2 (Conv2D)        (None, 18, 18, 512)       2359808   \n",
            "_________________________________________________________________\n",
            "block4_conv3 (Conv2D)        (None, 18, 18, 512)       2359808   \n",
            "_________________________________________________________________\n",
            "block4_pool (MaxPooling2D)   (None, 9, 9, 512)         0         \n",
            "_________________________________________________________________\n",
            "block5_conv1 (Conv2D)        (None, 9, 9, 512)         2359808   \n",
            "_________________________________________________________________\n",
            "block5_conv2 (Conv2D)        (None, 9, 9, 512)         2359808   \n",
            "_________________________________________________________________\n",
            "block5_conv3 (Conv2D)        (None, 9, 9, 512)         2359808   \n",
            "_________________________________________________________________\n",
            "block5_pool (MaxPooling2D)   (None, 4, 4, 512)         0         \n",
            "=================================================================\n",
            "Total params: 14,714,688\n",
            "Trainable params: 0\n",
            "Non-trainable params: 14,714,688\n",
            "_________________________________________________________________\n"
          ],
          "name": "stdout"
        }
      ]
    },
    {
      "metadata": {
        "id": "RAUd8YyW2blO",
        "colab_type": "text"
      },
      "cell_type": "markdown",
      "source": [
        "### 위에서 block 5 부분만 미세조정 하겠다"
      ]
    },
    {
      "metadata": {
        "id": "pEVEbvcW2TBl",
        "colab_type": "code",
        "colab": {}
      },
      "cell_type": "code",
      "source": [
        "conv_base.trainable = True\n",
        "\n",
        "set_trainable = False\n",
        "for layer in conv_base.layers:\n",
        "  if layer.name == 'block5_conv1':\n",
        "    set_trainable = True\n",
        "  if set_trainable:\n",
        "    layer.trainable = True\n",
        "  else:\n",
        "    layer.trainable = False"
      ],
      "execution_count": 0,
      "outputs": []
    },
    {
      "metadata": {
        "id": "7uCc31nj3lJq",
        "colab_type": "text"
      },
      "cell_type": "markdown",
      "source": [
        "### 학습률을 작게 조정한다 (천천히 학습하도록)"
      ]
    },
    {
      "metadata": {
        "id": "oEZvEBLt3fZl",
        "colab_type": "code",
        "outputId": "414edc79-e760-46c7-d66b-81cd0ff92cb1",
        "colab": {
          "base_uri": "https://localhost:8080/",
          "height": 1097
        }
      },
      "cell_type": "code",
      "source": [
        "model.compile(loss='binary_crossentropy',\n",
        "              optimizer=optimizers.RMSprop(lr=1e-5),\n",
        "              metrics=['acc'])\n",
        "\n",
        "\n",
        "history = model.fit_generator(\n",
        "    generator=train_generator, \n",
        "    steps_per_epoch=100,\n",
        "    epochs=30,\n",
        "    validation_data=validation_generator,\n",
        "    validation_steps=50)"
      ],
      "execution_count": 26,
      "outputs": [
        {
          "output_type": "stream",
          "text": [
            "Epoch 1/30\n",
            "100/100 [==============================] - 29s 287ms/step - loss: 0.2958 - acc: 0.8755 - val_loss: 0.2924 - val_acc: 0.8970\n",
            "Epoch 2/30\n",
            "100/100 [==============================] - 27s 269ms/step - loss: 0.2697 - acc: 0.8760 - val_loss: 0.2493 - val_acc: 0.9090\n",
            "Epoch 3/30\n",
            "100/100 [==============================] - 27s 270ms/step - loss: 0.2400 - acc: 0.8995 - val_loss: 0.1960 - val_acc: 0.9290\n",
            "Epoch 4/30\n",
            "100/100 [==============================] - 27s 271ms/step - loss: 0.2216 - acc: 0.9075 - val_loss: 0.2148 - val_acc: 0.9140\n",
            "Epoch 5/30\n",
            "100/100 [==============================] - 27s 270ms/step - loss: 0.2217 - acc: 0.9100 - val_loss: 0.2070 - val_acc: 0.9260\n",
            "Epoch 6/30\n",
            "100/100 [==============================] - 27s 269ms/step - loss: 0.1833 - acc: 0.9235 - val_loss: 0.1994 - val_acc: 0.9260\n",
            "Epoch 7/30\n",
            "100/100 [==============================] - 27s 268ms/step - loss: 0.1731 - acc: 0.9230 - val_loss: 0.2082 - val_acc: 0.9380\n",
            "Epoch 8/30\n",
            "100/100 [==============================] - 27s 270ms/step - loss: 0.1748 - acc: 0.9290 - val_loss: 0.1989 - val_acc: 0.9380\n",
            "Epoch 9/30\n",
            "100/100 [==============================] - 27s 268ms/step - loss: 0.1754 - acc: 0.9255 - val_loss: 0.2412 - val_acc: 0.9180\n",
            "Epoch 10/30\n",
            "100/100 [==============================] - 27s 269ms/step - loss: 0.1639 - acc: 0.9375 - val_loss: 0.2114 - val_acc: 0.9280\n",
            "Epoch 11/30\n",
            "100/100 [==============================] - 27s 267ms/step - loss: 0.1375 - acc: 0.9430 - val_loss: 0.2061 - val_acc: 0.9390\n",
            "Epoch 12/30\n",
            "100/100 [==============================] - 27s 267ms/step - loss: 0.1480 - acc: 0.9395 - val_loss: 0.2735 - val_acc: 0.9170\n",
            "Epoch 13/30\n",
            "100/100 [==============================] - 27s 268ms/step - loss: 0.1282 - acc: 0.9505 - val_loss: 0.1758 - val_acc: 0.9400\n",
            "Epoch 14/30\n",
            "100/100 [==============================] - 27s 268ms/step - loss: 0.1234 - acc: 0.9495 - val_loss: 0.1845 - val_acc: 0.9460\n",
            "Epoch 15/30\n",
            "100/100 [==============================] - 27s 268ms/step - loss: 0.1244 - acc: 0.9520 - val_loss: 0.3126 - val_acc: 0.9110\n",
            "Epoch 16/30\n",
            "100/100 [==============================] - 27s 269ms/step - loss: 0.0991 - acc: 0.9610 - val_loss: 0.2383 - val_acc: 0.9330\n",
            "Epoch 17/30\n",
            "100/100 [==============================] - 27s 270ms/step - loss: 0.1099 - acc: 0.9595 - val_loss: 0.2655 - val_acc: 0.9290\n",
            "Epoch 18/30\n",
            "100/100 [==============================] - 27s 270ms/step - loss: 0.1117 - acc: 0.9525 - val_loss: 0.1831 - val_acc: 0.9480\n",
            "Epoch 19/30\n",
            "100/100 [==============================] - 27s 270ms/step - loss: 0.1064 - acc: 0.9590 - val_loss: 0.3330 - val_acc: 0.9070\n",
            "Epoch 20/30\n",
            "100/100 [==============================] - 27s 269ms/step - loss: 0.1015 - acc: 0.9630 - val_loss: 0.1632 - val_acc: 0.9460\n",
            "Epoch 21/30\n",
            "100/100 [==============================] - 27s 269ms/step - loss: 0.0954 - acc: 0.9640 - val_loss: 0.2818 - val_acc: 0.9250\n",
            "Epoch 22/30\n",
            "100/100 [==============================] - 27s 269ms/step - loss: 0.0855 - acc: 0.9665 - val_loss: 0.1940 - val_acc: 0.9430\n",
            "Epoch 23/30\n",
            "100/100 [==============================] - 27s 270ms/step - loss: 0.0875 - acc: 0.9710 - val_loss: 0.2312 - val_acc: 0.9400\n",
            "Epoch 24/30\n",
            "100/100 [==============================] - 27s 269ms/step - loss: 0.0810 - acc: 0.9690 - val_loss: 0.1968 - val_acc: 0.9450\n",
            "Epoch 25/30\n",
            "100/100 [==============================] - 27s 270ms/step - loss: 0.0776 - acc: 0.9690 - val_loss: 0.2502 - val_acc: 0.9390\n",
            "Epoch 26/30\n",
            "100/100 [==============================] - 27s 270ms/step - loss: 0.0741 - acc: 0.9735 - val_loss: 0.2580 - val_acc: 0.9150\n",
            "Epoch 27/30\n",
            "100/100 [==============================] - 27s 270ms/step - loss: 0.0671 - acc: 0.9760 - val_loss: 0.1964 - val_acc: 0.9500\n",
            "Epoch 28/30\n",
            "100/100 [==============================] - 27s 271ms/step - loss: 0.0613 - acc: 0.9765 - val_loss: 0.1731 - val_acc: 0.9480\n",
            "Epoch 29/30\n",
            "100/100 [==============================] - 27s 270ms/step - loss: 0.0647 - acc: 0.9765 - val_loss: 0.3013 - val_acc: 0.9200\n",
            "Epoch 30/30\n",
            "100/100 [==============================] - 27s 269ms/step - loss: 0.0735 - acc: 0.9715 - val_loss: 0.2095 - val_acc: 0.9470\n"
          ],
          "name": "stdout"
        }
      ]
    },
    {
      "metadata": {
        "id": "QCbU7FQU47OP",
        "colab_type": "text"
      },
      "cell_type": "markdown",
      "source": [
        "## 성능이 92%로 1% 정도 향상되었다.\n",
        "- 주의 할 것은 손실함수는 향상되지 않는 것으로 나타나도, 성능이 향상될 수 있다는 것이다. (분류 성능은 어떤 임계값만 넘으면 활률적으로 개선될 수 있다)\n",
        "\n",
        "## 요약\n",
        "- 과대적합을 줄이기 위해서 데이터 확장을 사용\n",
        "- 전이학습 중 특성 추출방식 소개\n",
        "- 전이학습 중 미세조정 방식 소개"
      ]
    },
    {
      "metadata": {
        "id": "KqawBZX0hmuI",
        "colab_type": "code",
        "colab": {}
      },
      "cell_type": "code",
      "source": [
        ""
      ],
      "execution_count": 0,
      "outputs": []
    },
    {
      "metadata": {
        "id": "wmLxvMGyhVc-",
        "colab_type": "text"
      },
      "cell_type": "markdown",
      "source": [
        ""
      ]
    },
    {
      "metadata": {
        "id": "90ASRcTmhWuC",
        "colab_type": "text"
      },
      "cell_type": "markdown",
      "source": [
        "# 설명\n",
        "1. 1번째모델과 2번째 모델의 차이점\n",
        " - 1번째 모델은 이전의 네트워크에서 배운 방식을 가져와 데이터를 훈련시키므로써 특성을 추출하여 훈련하였는데, 데이터량이 부족하여 과대적합이 일어났고 2번째는 새로운 Dense를 추가함으로써 데이터의 확장이 일어나서 score의 향상을 가져왔다.\n",
        "2. 미세조정 단계인 3번째 모델에서 'block 5'만 미세조정하는 이유\n",
        " - 마지막에 연결된 계층을 제외한 모든 신경망의 가중치를 고정하고, 마지막에 완전히 연결된 계층은 새로운 무작위의 가중치를 갖는 계층으로 대체하여 이 계층만 학습하겠다는 것."
      ]
    },
    {
      "metadata": {
        "id": "8zFN7erS5SEV",
        "colab_type": "code",
        "colab": {}
      },
      "cell_type": "code",
      "source": [
        ""
      ],
      "execution_count": 0,
      "outputs": []
    }
  ]
}