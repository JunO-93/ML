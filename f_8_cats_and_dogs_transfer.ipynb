{
  "nbformat": 4,
  "nbformat_minor": 0,
  "metadata": {
    "colab": {
      "name": "f-8-cats-and-dogs-transfer의 사본",
      "version": "0.3.2",
      "provenance": [],
      "collapsed_sections": [],
      "include_colab_link": true
    },
    "kernelspec": {
      "name": "python2",
      "display_name": "Python 2"
    },
    "accelerator": "GPU"
  },
  "cells": [
    {
      "cell_type": "markdown",
      "metadata": {
        "id": "view-in-github",
        "colab_type": "text"
      },
      "source": [
        "<a href=\"https://colab.research.google.com/github/Ssaragi/ML/blob/master/f_8_cats_and_dogs_transfer.ipynb\" target=\"_parent\"><img src=\"https://colab.research.google.com/assets/colab-badge.svg\" alt=\"Open In Colab\"/></a>"
      ]
    },
    {
      "metadata": {
        "colab_type": "text",
        "id": "YHK6DyunSbs4"
      },
      "cell_type": "markdown",
      "source": [
        "# 전이학습 고양이 강아지 구분\n",
        "## VGG16 (2014)\n",
        "- 이미지넷으로 사전 훈련된 네트워크를 사용\n",
        "- 1000개의 객체를 구분하는 모델이나, 여기서는 고양이, 강아지 구분에 사용  \n",
        "\n",
        "## 1) 특성추출 방식\n",
        "- 합성곱 필터링 영역(convolutional base)를 그대로 사용\n",
        "- 공통되는 특성만 추출하여 사용한다\n",
        "- 전결합망 부분은 새로운 데이터 (고양이/강아지)로 학습을 다시 시킨다\n",
        "\n",
        "\n",
        "## 2) 미세 조정 방식\n"
      ]
    },
    {
      "metadata": {
        "colab_type": "text",
        "id": "UY6KJV6z6l7_"
      },
      "cell_type": "markdown",
      "source": [
        "## 데이터 다운로드"
      ]
    },
    {
      "metadata": {
        "id": "BintRJjr1QvS",
        "colab_type": "code",
        "colab": {}
      },
      "cell_type": "code",
      "source": [
        "import os, os.path, shutil\n",
        "import zipfile\n",
        "%matplotlib inline\n",
        "\n",
        "import matplotlib.pyplot as plt\n",
        "import matplotlib.image as mpimg\n",
        "from keras.applications import VGG16"
      ],
      "execution_count": 0,
      "outputs": []
    },
    {
      "metadata": {
        "id": "mxOElr1tG82n",
        "colab_type": "text"
      },
      "cell_type": "markdown",
      "source": [
        "## VGG16으로 사전학습된 가중치 가져오기\n",
        "- include_top은 기존의 1000개 전결합망 분류기를 포함할지를 선택"
      ]
    },
    {
      "metadata": {
        "id": "39bxJu-BGL9N",
        "colab_type": "code",
        "outputId": "9a7fe51d-a83d-4838-90c7-9cddfde78276",
        "colab": {
          "base_uri": "https://localhost:8080/",
          "height": 70
        }
      },
      "cell_type": "code",
      "source": [
        "conv_base = VGG16(weights = 'imagenet',\n",
        "                 include_top=False,\n",
        "                 input_shape=(150, 150, 3))"
      ],
      "execution_count": 0,
      "outputs": [
        {
          "output_type": "stream",
          "text": [
            "Downloading data from https://github.com/fchollet/deep-learning-models/releases/download/v0.1/vgg16_weights_tf_dim_ordering_tf_kernels_notop.h5\n",
            "58892288/58889256 [==============================] - 1s 0us/step\n",
            "58900480/58889256 [==============================] - 1s 0us/step\n"
          ],
          "name": "stdout"
        }
      ]
    },
    {
      "metadata": {
        "id": "84MocF__GLuw",
        "colab_type": "code",
        "outputId": "3e66a30b-4330-4d75-a473-fa8e8e83d596",
        "colab": {
          "base_uri": "https://localhost:8080/",
          "height": 809
        }
      },
      "cell_type": "code",
      "source": [
        "conv_base.summary()"
      ],
      "execution_count": 0,
      "outputs": [
        {
          "output_type": "stream",
          "text": [
            "_________________________________________________________________\n",
            "Layer (type)                 Output Shape              Param #   \n",
            "=================================================================\n",
            "input_1 (InputLayer)         (None, 150, 150, 3)       0         \n",
            "_________________________________________________________________\n",
            "block1_conv1 (Conv2D)        (None, 150, 150, 64)      1792      \n",
            "_________________________________________________________________\n",
            "block1_conv2 (Conv2D)        (None, 150, 150, 64)      36928     \n",
            "_________________________________________________________________\n",
            "block1_pool (MaxPooling2D)   (None, 75, 75, 64)        0         \n",
            "_________________________________________________________________\n",
            "block2_conv1 (Conv2D)        (None, 75, 75, 128)       73856     \n",
            "_________________________________________________________________\n",
            "block2_conv2 (Conv2D)        (None, 75, 75, 128)       147584    \n",
            "_________________________________________________________________\n",
            "block2_pool (MaxPooling2D)   (None, 37, 37, 128)       0         \n",
            "_________________________________________________________________\n",
            "block3_conv1 (Conv2D)        (None, 37, 37, 256)       295168    \n",
            "_________________________________________________________________\n",
            "block3_conv2 (Conv2D)        (None, 37, 37, 256)       590080    \n",
            "_________________________________________________________________\n",
            "block3_conv3 (Conv2D)        (None, 37, 37, 256)       590080    \n",
            "_________________________________________________________________\n",
            "block3_pool (MaxPooling2D)   (None, 18, 18, 256)       0         \n",
            "_________________________________________________________________\n",
            "block4_conv1 (Conv2D)        (None, 18, 18, 512)       1180160   \n",
            "_________________________________________________________________\n",
            "block4_conv2 (Conv2D)        (None, 18, 18, 512)       2359808   \n",
            "_________________________________________________________________\n",
            "block4_conv3 (Conv2D)        (None, 18, 18, 512)       2359808   \n",
            "_________________________________________________________________\n",
            "block4_pool (MaxPooling2D)   (None, 9, 9, 512)         0         \n",
            "_________________________________________________________________\n",
            "block5_conv1 (Conv2D)        (None, 9, 9, 512)         2359808   \n",
            "_________________________________________________________________\n",
            "block5_conv2 (Conv2D)        (None, 9, 9, 512)         2359808   \n",
            "_________________________________________________________________\n",
            "block5_conv3 (Conv2D)        (None, 9, 9, 512)         2359808   \n",
            "_________________________________________________________________\n",
            "block5_pool (MaxPooling2D)   (None, 4, 4, 512)         0         \n",
            "=================================================================\n",
            "Total params: 14,714,688\n",
            "Trainable params: 14,714,688\n",
            "Non-trainable params: 0\n",
            "_________________________________________________________________\n"
          ],
          "name": "stdout"
        }
      ]
    },
    {
      "metadata": {
        "id": "wLStHmXaMqja",
        "colab_type": "text"
      },
      "cell_type": "markdown",
      "source": [
        "## 두가지 옵션이 가능하다\n",
        "### 1) 합성곱 기반을 통과한 출력을 저장한 후 이를 전결합망에 통과\n",
        "- 데이터 확장은 사용할 수 없다\n",
        "- 실행이 빠르다\n",
        "\n",
        "### 2) 모델에 Dense망을 추가하고 학습을 수행\n",
        "- 데이터 확장을 사용할 수 있다.\n",
        "- 비용이 많이 든다\n",
        "\n",
        "\n",
        "### 1) 방식을 먼저 수행한다.\n"
      ]
    },
    {
      "metadata": {
        "id": "kkMqucDvN0Qy",
        "colab_type": "text"
      },
      "cell_type": "markdown",
      "source": [
        "### 데이터 읽기"
      ]
    },
    {
      "metadata": {
        "id": "r9hD7mAvGLVZ",
        "colab_type": "code",
        "colab": {}
      },
      "cell_type": "code",
      "source": [
        ""
      ],
      "execution_count": 0,
      "outputs": []
    },
    {
      "metadata": {
        "id": "JHHE2t4yxpMU",
        "colab_type": "code",
        "outputId": "74c34cca-cf49-4651-d488-3d8fbca42dc5",
        "colab": {
          "base_uri": "https://localhost:8080/",
          "height": 210
        }
      },
      "cell_type": "code",
      "source": [
        "if not os.path.exists(\"./data\"):\n",
        "    os.makedirs(\"./data\")\n",
        "if not os.path.exists(\"./data/cats_and_dogs_filtered.zip\"):\n",
        "  !wget --no-check-certificate \\\n",
        "    https://storage.googleapis.com/mledu-datasets/cats_and_dogs_filtered.zip \\\n",
        "    -O ./data/cats_and_dogs_filtered.zip"
      ],
      "execution_count": 0,
      "outputs": [
        {
          "output_type": "stream",
          "text": [
            "--2018-12-11 04:04:40--  https://storage.googleapis.com/mledu-datasets/cats_and_dogs_filtered.zip\n",
            "Resolving storage.googleapis.com (storage.googleapis.com)... 108.177.112.128, 2607:f8b0:4001:c06::80\n",
            "Connecting to storage.googleapis.com (storage.googleapis.com)|108.177.112.128|:443... connected.\n",
            "HTTP request sent, awaiting response... 200 OK\n",
            "Length: 68606236 (65M) [application/zip]\n",
            "Saving to: ‘./data/cats_and_dogs_filtered.zip’\n",
            "\n",
            "./data/cats_and_dog 100%[===================>]  65.43M  88.0MB/s    in 0.7s    \n",
            "\n",
            "2018-12-11 04:04:41 (88.0 MB/s) - ‘./data/cats_and_dogs_filtered.zip’ saved [68606236/68606236]\n",
            "\n"
          ],
          "name": "stdout"
        }
      ]
    },
    {
      "metadata": {
        "id": "rB0mr2KJzs3M",
        "colab_type": "code",
        "outputId": "767bf7c2-0cd2-4100-fa2c-f764f980b51c",
        "colab": {
          "base_uri": "https://localhost:8080/",
          "height": 34
        }
      },
      "cell_type": "code",
      "source": [
        "!ls data"
      ],
      "execution_count": 0,
      "outputs": [
        {
          "output_type": "stream",
          "text": [
            "cats_and_dogs_filtered.zip\n"
          ],
          "name": "stdout"
        }
      ]
    },
    {
      "metadata": {
        "colab_type": "code",
        "id": "PLy3pthUS0D2",
        "colab": {}
      },
      "cell_type": "code",
      "source": [
        "local_zip = './data/cats_and_dogs_filtered.zip'\n",
        "zip_ref = zipfile.ZipFile(local_zip, 'r')\n",
        "zip_ref.extractall('./data')\n",
        "zip_ref.close()"
      ],
      "execution_count": 0,
      "outputs": []
    },
    {
      "metadata": {
        "id": "VeJd7lxOy26s",
        "colab_type": "code",
        "outputId": "be47384f-fba7-48b6-c65c-9db297a1647c",
        "colab": {
          "base_uri": "https://localhost:8080/",
          "height": 298
        }
      },
      "cell_type": "code",
      "source": [
        "!apt-get install tree"
      ],
      "execution_count": 0,
      "outputs": [
        {
          "output_type": "stream",
          "text": [
            "Reading package lists... Done\n",
            "Building dependency tree       \n",
            "Reading state information... Done\n",
            "The following NEW packages will be installed:\n",
            "  tree\n",
            "0 upgraded, 1 newly installed, 0 to remove and 10 not upgraded.\n",
            "Need to get 40.7 kB of archives.\n",
            "After this operation, 105 kB of additional disk space will be used.\n",
            "Get:1 http://archive.ubuntu.com/ubuntu bionic/universe amd64 tree amd64 1.7.0-5 [40.7 kB]\n",
            "Fetched 40.7 kB in 1s (30.9 kB/s)\n",
            "Selecting previously unselected package tree.\n",
            "(Reading database ... 26397 files and directories currently installed.)\n",
            "Preparing to unpack .../tree_1.7.0-5_amd64.deb ...\n",
            "Unpacking tree (1.7.0-5) ...\n",
            "Setting up tree (1.7.0-5) ...\n",
            "Processing triggers for man-db (2.8.3-2ubuntu0.1) ...\n"
          ],
          "name": "stdout"
        }
      ]
    },
    {
      "metadata": {
        "id": "eKBizBLr0M8w",
        "colab_type": "code",
        "outputId": "3ba8221c-34dd-4d02-81c1-c1fa4e541808",
        "colab": {
          "base_uri": "https://localhost:8080/",
          "height": 228
        }
      },
      "cell_type": "code",
      "source": [
        "!tree -d ."
      ],
      "execution_count": 0,
      "outputs": [
        {
          "output_type": "stream",
          "text": [
            ".\n",
            "├── data\n",
            "│   └── cats_and_dogs_filtered\n",
            "│       ├── train\n",
            "│       │   ├── cats\n",
            "│       │   └── dogs\n",
            "│       └── validation\n",
            "│           ├── cats\n",
            "│           └── dogs\n",
            "└── sample_data\n",
            "\n",
            "9 directories\n"
          ],
          "name": "stdout"
        }
      ]
    },
    {
      "metadata": {
        "colab_type": "code",
        "id": "MLZKVtE0dSfk",
        "colab": {}
      },
      "cell_type": "code",
      "source": [
        "base_dir = './data/cats_and_dogs_filtered'\n",
        "train_dir = os.path.join(base_dir, 'train')\n",
        "validation_dir = os.path.join(base_dir, 'validation')"
      ],
      "execution_count": 0,
      "outputs": []
    },
    {
      "metadata": {
        "id": "I-gqmVtXI1If",
        "colab_type": "code",
        "outputId": "5158ea2b-d133-44bf-a4dd-34151a7a4a0b",
        "colab": {
          "base_uri": "https://localhost:8080/",
          "height": 34
        }
      },
      "cell_type": "code",
      "source": [
        "train_dir"
      ],
      "execution_count": 0,
      "outputs": [
        {
          "output_type": "execute_result",
          "data": {
            "text/plain": [
              "'./data/cats_and_dogs_filtered/train'"
            ]
          },
          "metadata": {
            "tags": []
          },
          "execution_count": 11
        }
      ]
    },
    {
      "metadata": {
        "colab_type": "text",
        "id": "5oqBkNBJmtUv"
      },
      "cell_type": "markdown",
      "source": [
        "## 특성추출만 사용한 모델 (데이터 증식은 사용하지 않는 방식)\n",
        "- ImageDataGenerator를 사용하여 이미지와 레이블을 생성\n",
        "- conv_base 모델의 predict를 사용하여 이미지의 특성을 추출\n",
        "- 마지막 출력의 크기가 (4, 4, 512)이다.\n"
      ]
    },
    {
      "metadata": {
        "colab_type": "code",
        "id": "IYVLSfbsbf9K",
        "colab": {}
      },
      "cell_type": "code",
      "source": [
        "from keras import layers\n",
        "from keras import models\n",
        "from keras import optimizers\n",
        "from keras.preprocessing import image\n",
        "from keras.preprocessing.image import ImageDataGenerator\n",
        "import numpy as np "
      ],
      "execution_count": 0,
      "outputs": []
    },
    {
      "metadata": {
        "id": "zKpFv6lSGmtR",
        "colab_type": "code",
        "outputId": "66713fc9-d193-497f-d390-5da64f086160",
        "colab": {
          "base_uri": "https://localhost:8080/",
          "height": 281
        }
      },
      "cell_type": "code",
      "source": [
        "img_width = 150\n",
        "img_height = 150\n",
        "batch_size=20\n",
        "\n",
        "datagen = ImageDataGenerator(rescale = 1./255)\n",
        "\n",
        "def extract_features(directory, sample_count):\n",
        "  features = np.zeros(shape=(sample_count, 4, 4, 512))\n",
        "  labels = np.zeros(shape=(sample_count))\n",
        "  generator = datagen.flow_from_directory(\n",
        "      directory,\n",
        " \t    target_size=(img_width,img_height),\n",
        "      class_mode='binary',\n",
        "\t\t\tbatch_size=batch_size)\n",
        "  i=1\n",
        "  for inputs_batch, labels_batch in generator:\n",
        "    features_batch = conv_base.predict(inputs_batch)\n",
        "    features[i*batch_size:(i+1)*batch_size] = features_batch\n",
        "    labels[i*batch_size:(i+1)*batch_size] = labels_batch\n",
        "    i += 1\n",
        "    if i* batch_size >= sample_count:\n",
        "      break\n",
        "  return features, labels\n",
        "\n",
        "train_features, train_labels = extract_features(train_dir, 2000)\n",
        "validation_features, validation_labels = extract_features(validation_dir, 1000)\n",
        "\n",
        "train_features = np.reshape(train_features, (2000, 4*4*512))\n",
        "validation_features = np.reshape(validation_features, (1000, 4*4*512))\n",
        "\n",
        "    \n",
        "model = models.Sequential()\n",
        "\n",
        "model.add(layers.Dense(512, activation='relu', input_dim= 4*4*512))\n",
        "model.add(layers.Dropout(0.5))\n",
        "model.add(layers.Dense(1, activation='sigmoid'))\n",
        "\n",
        "model.summary()"
      ],
      "execution_count": 0,
      "outputs": [
        {
          "output_type": "stream",
          "text": [
            "Found 2000 images belonging to 2 classes.\n",
            "Found 1000 images belonging to 2 classes.\n",
            "_________________________________________________________________\n",
            "Layer (type)                 Output Shape              Param #   \n",
            "=================================================================\n",
            "dense_5 (Dense)              (None, 512)               4194816   \n",
            "_________________________________________________________________\n",
            "dropout_2 (Dropout)          (None, 512)               0         \n",
            "_________________________________________________________________\n",
            "dense_6 (Dense)              (None, 1)                 513       \n",
            "=================================================================\n",
            "Total params: 4,195,329\n",
            "Trainable params: 4,195,329\n",
            "Non-trainable params: 0\n",
            "_________________________________________________________________\n"
          ],
          "name": "stdout"
        }
      ]
    },
    {
      "metadata": {
        "id": "hxITBhxQDwkd",
        "colab_type": "code",
        "outputId": "bc7835df-22ba-49f2-a21f-eb506e81a2e7",
        "colab": {
          "base_uri": "https://localhost:8080/",
          "height": 1090
        }
      },
      "cell_type": "code",
      "source": [
        "model.compile(loss='binary_crossentropy',\n",
        "              optimizer=optimizers.RMSprop(lr=2e-5),\n",
        "              metrics=['acc'])\n",
        "history = model.fit(\n",
        "    train_features, train_labels,\n",
        "    epochs=30,\n",
        "    validation_data= (validation_features, validation_labels),\n",
        "    batch_size=batch_size)"
      ],
      "execution_count": 0,
      "outputs": [
        {
          "output_type": "stream",
          "text": [
            "Train on 2000 samples, validate on 1000 samples\n",
            "Epoch 1/30\n",
            "2000/2000 [==============================] - 1s 746us/step - loss: 0.5720 - acc: 0.7095 - val_loss: 0.4188 - val_acc: 0.8210\n",
            "Epoch 2/30\n",
            "2000/2000 [==============================] - 1s 583us/step - loss: 0.4042 - acc: 0.8225 - val_loss: 0.3413 - val_acc: 0.8750\n",
            "Epoch 3/30\n",
            "2000/2000 [==============================] - 1s 584us/step - loss: 0.3262 - acc: 0.8585 - val_loss: 0.3157 - val_acc: 0.8700\n",
            "Epoch 4/30\n",
            "2000/2000 [==============================] - 1s 580us/step - loss: 0.2855 - acc: 0.8880 - val_loss: 0.2996 - val_acc: 0.8750\n",
            "Epoch 5/30\n",
            "2000/2000 [==============================] - 1s 581us/step - loss: 0.2561 - acc: 0.9035 - val_loss: 0.2926 - val_acc: 0.8760\n",
            "Epoch 6/30\n",
            "2000/2000 [==============================] - 1s 594us/step - loss: 0.2306 - acc: 0.9175 - val_loss: 0.2820 - val_acc: 0.8870\n",
            "Epoch 7/30\n",
            "2000/2000 [==============================] - 1s 583us/step - loss: 0.2185 - acc: 0.9175 - val_loss: 0.2770 - val_acc: 0.8860\n",
            "Epoch 8/30\n",
            "2000/2000 [==============================] - 1s 580us/step - loss: 0.2041 - acc: 0.9260 - val_loss: 0.2756 - val_acc: 0.8810\n",
            "Epoch 9/30\n",
            "2000/2000 [==============================] - 1s 586us/step - loss: 0.1945 - acc: 0.9315 - val_loss: 0.2800 - val_acc: 0.8780\n",
            "Epoch 10/30\n",
            "2000/2000 [==============================] - 1s 586us/step - loss: 0.1826 - acc: 0.9345 - val_loss: 0.2681 - val_acc: 0.8800\n",
            "Epoch 11/30\n",
            "2000/2000 [==============================] - 1s 587us/step - loss: 0.1755 - acc: 0.9375 - val_loss: 0.2736 - val_acc: 0.8910\n",
            "Epoch 12/30\n",
            "2000/2000 [==============================] - 1s 591us/step - loss: 0.1606 - acc: 0.9410 - val_loss: 0.2675 - val_acc: 0.8880\n",
            "Epoch 13/30\n",
            "2000/2000 [==============================] - 1s 591us/step - loss: 0.1531 - acc: 0.9495 - val_loss: 0.2690 - val_acc: 0.8850\n",
            "Epoch 14/30\n",
            "2000/2000 [==============================] - 1s 588us/step - loss: 0.1507 - acc: 0.9480 - val_loss: 0.2640 - val_acc: 0.8880\n",
            "Epoch 15/30\n",
            "2000/2000 [==============================] - 1s 585us/step - loss: 0.1391 - acc: 0.9565 - val_loss: 0.2648 - val_acc: 0.8870\n",
            "Epoch 16/30\n",
            "2000/2000 [==============================] - 1s 589us/step - loss: 0.1328 - acc: 0.9530 - val_loss: 0.2684 - val_acc: 0.8900\n",
            "Epoch 17/30\n",
            "2000/2000 [==============================] - 1s 589us/step - loss: 0.1251 - acc: 0.9590 - val_loss: 0.2654 - val_acc: 0.8870\n",
            "Epoch 18/30\n",
            "2000/2000 [==============================] - 1s 589us/step - loss: 0.1206 - acc: 0.9595 - val_loss: 0.2815 - val_acc: 0.8780\n",
            "Epoch 19/30\n",
            "2000/2000 [==============================] - 1s 582us/step - loss: 0.1141 - acc: 0.9660 - val_loss: 0.2699 - val_acc: 0.8930\n",
            "Epoch 20/30\n",
            "2000/2000 [==============================] - 1s 599us/step - loss: 0.1078 - acc: 0.9715 - val_loss: 0.2688 - val_acc: 0.8880\n",
            "Epoch 21/30\n",
            "2000/2000 [==============================] - 1s 618us/step - loss: 0.0980 - acc: 0.9715 - val_loss: 0.2699 - val_acc: 0.8920\n",
            "Epoch 22/30\n",
            "2000/2000 [==============================] - 1s 624us/step - loss: 0.0971 - acc: 0.9720 - val_loss: 0.2681 - val_acc: 0.8910\n",
            "Epoch 23/30\n",
            "2000/2000 [==============================] - 1s 617us/step - loss: 0.0918 - acc: 0.9760 - val_loss: 0.2699 - val_acc: 0.8940\n",
            "Epoch 24/30\n",
            "2000/2000 [==============================] - 1s 626us/step - loss: 0.0897 - acc: 0.9750 - val_loss: 0.2705 - val_acc: 0.8960\n",
            "Epoch 25/30\n",
            "2000/2000 [==============================] - 1s 601us/step - loss: 0.0830 - acc: 0.9785 - val_loss: 0.2739 - val_acc: 0.8920\n",
            "Epoch 26/30\n",
            "2000/2000 [==============================] - 1s 593us/step - loss: 0.0806 - acc: 0.9820 - val_loss: 0.2726 - val_acc: 0.8940\n",
            "Epoch 27/30\n",
            "2000/2000 [==============================] - 1s 592us/step - loss: 0.0770 - acc: 0.9810 - val_loss: 0.2742 - val_acc: 0.8900\n",
            "Epoch 28/30\n",
            "2000/2000 [==============================] - 1s 588us/step - loss: 0.0721 - acc: 0.9865 - val_loss: 0.2753 - val_acc: 0.8940\n",
            "Epoch 29/30\n",
            "2000/2000 [==============================] - 1s 586us/step - loss: 0.0691 - acc: 0.9820 - val_loss: 0.2804 - val_acc: 0.8920\n",
            "Epoch 30/30\n",
            "2000/2000 [==============================] - 1s 589us/step - loss: 0.0644 - acc: 0.9840 - val_loss: 0.2809 - val_acc: 0.8920\n"
          ],
          "name": "stdout"
        }
      ]
    },
    {
      "metadata": {
        "colab_type": "text",
        "id": "Q5Vulban4ZrD"
      },
      "cell_type": "markdown",
      "source": [
        "## 성능 확인"
      ]
    },
    {
      "metadata": {
        "colab_type": "code",
        "id": "0oj0gTIy4k60",
        "outputId": "2fef9968-7434-409d-97b0-b20c4c7709c4",
        "colab": {
          "base_uri": "https://localhost:8080/",
          "height": 561
        }
      },
      "cell_type": "code",
      "source": [
        "acc = history.history['acc']\n",
        "val_acc = history.history['val_acc']\n",
        "\n",
        "loss = history.history['loss']\n",
        "val_loss = history.history['val_loss']\n",
        "\n",
        "epochs = range(len(acc))\n",
        "\n",
        "plt.plot(epochs, acc)\n",
        "plt.plot(epochs, val_acc)\n",
        "plt.title('Training and validation accuracy')\n",
        "\n",
        "plt.figure()\n",
        "\n",
        "plt.plot(epochs, loss)\n",
        "plt.plot(epochs, val_loss)\n",
        "plt.title('Training and validation loss')"
      ],
      "execution_count": 0,
      "outputs": [
        {
          "output_type": "execute_result",
          "data": {
            "text/plain": [
              "Text(0.5,1,u'Training and validation loss')"
            ]
          },
          "metadata": {
            "tags": []
          },
          "execution_count": 24
        },
        {
          "output_type": "display_data",
          "data": {
            "image/png": "[encoded data removed]",
            "text/plain": [
              "<matplotlib.figure.Figure at 0x7f706ebb7850>"
            ]
          },
          "metadata": {
            "tags": []
          }
        },
        {
          "output_type": "display_data",
          "data": {
            "image/png": "[encoded data removed]",
            "text/plain": [
              "<matplotlib.figure.Figure at 0x7f706eb966d0>"
            ]
          },
          "metadata": {
            "tags": []
          }
        }
      ]
    },
    {
      "metadata": {
        "colab_type": "text",
        "id": "DgmSjUST4qoS"
      },
      "cell_type": "markdown",
      "source": [
        "### 과대적합이 발생한 것을 알 수 있다.\n",
        "- 훈련 데이터가 부족하다\n",
        "- 데이터 확장을 사용하여 개선할 수 있다."
      ]
    },
    {
      "metadata": {
        "id": "zY8xC3RKIMjf",
        "colab_type": "text"
      },
      "cell_type": "markdown",
      "source": [
        "### 2) 모델에 Dense망을 추가하고 학습을 수행\n",
        "- 데이터 확장을 사용할 수 있다.\n",
        "- 비용이 많이 든다\n",
        "- 엔드-투-엔드로 실행한다"
      ]
    },
    {
      "metadata": {
        "id": "dEPZtbjoYyko",
        "colab_type": "code",
        "outputId": "b9dbdbb6-6cc2-45af-ea86-5f5d67152ecb",
        "colab": {
          "base_uri": "https://localhost:8080/",
          "height": 281
        }
      },
      "cell_type": "code",
      "source": [
        "# 모델\n",
        "\n",
        "model = models.Sequential()\n",
        "model.add(conv_base)\n",
        "\n",
        "model.add(layers.Flatten())\n",
        "model.add(layers.Dense(256, activation='relu'))\n",
        "model.add(layers.Dense(1, activation='sigmoid'))\n",
        "\n",
        "model.summary()"
      ],
      "execution_count": 0,
      "outputs": [
        {
          "output_type": "stream",
          "text": [
            "_________________________________________________________________\n",
            "Layer (type)                 Output Shape              Param #   \n",
            "=================================================================\n",
            "vgg16 (Model)                (None, 4, 4, 512)         14714688  \n",
            "_________________________________________________________________\n",
            "flatten_2 (Flatten)          (None, 8192)              0         \n",
            "_________________________________________________________________\n",
            "dense_7 (Dense)              (None, 256)               2097408   \n",
            "_________________________________________________________________\n",
            "dense_8 (Dense)              (None, 1)                 257       \n",
            "=================================================================\n",
            "Total params: 16,812,353\n",
            "Trainable params: 2,097,665\n",
            "Non-trainable params: 14,714,688\n",
            "_________________________________________________________________\n"
          ],
          "name": "stdout"
        }
      ]
    },
    {
      "metadata": {
        "id": "cRwp7DKRZNey",
        "colab_type": "text"
      },
      "cell_type": "markdown",
      "source": [
        "## 학습을 동결하지 않으면 모두 재 학습된다!"
      ]
    },
    {
      "metadata": {
        "id": "81xIo14SZaM_",
        "colab_type": "code",
        "outputId": "63fb4140-c073-4732-b8e0-92a2fa5e4367",
        "colab": {
          "base_uri": "https://localhost:8080/",
          "height": 34
        }
      },
      "cell_type": "code",
      "source": [
        "print(len(model.trainable_weights))"
      ],
      "execution_count": 0,
      "outputs": [
        {
          "output_type": "stream",
          "text": [
            "4\n"
          ],
          "name": "stdout"
        }
      ]
    },
    {
      "metadata": {
        "id": "1I-bJVROjbEi",
        "colab_type": "code",
        "colab": {}
      },
      "cell_type": "code",
      "source": [
        "conv_base.trainable = False"
      ],
      "execution_count": 0,
      "outputs": []
    },
    {
      "metadata": {
        "id": "MN5_TfDJjisU",
        "colab_type": "code",
        "outputId": "9c81bdf7-4e9e-4bb9-d824-7022b12c49aa",
        "colab": {
          "base_uri": "https://localhost:8080/",
          "height": 34
        }
      },
      "cell_type": "code",
      "source": [
        "print(len(model.trainable_weights))"
      ],
      "execution_count": 0,
      "outputs": [
        {
          "output_type": "stream",
          "text": [
            "4\n"
          ],
          "name": "stdout"
        }
      ]
    },
    {
      "metadata": {
        "id": "OUz97nA0jr_y",
        "colab_type": "code",
        "outputId": "dbb81f66-45df-40fe-af40-87fee86016ba",
        "colab": {
          "base_uri": "https://localhost:8080/",
          "height": 281
        }
      },
      "cell_type": "code",
      "source": [
        "model.summary()"
      ],
      "execution_count": 0,
      "outputs": [
        {
          "output_type": "stream",
          "text": [
            "_________________________________________________________________\n",
            "Layer (type)                 Output Shape              Param #   \n",
            "=================================================================\n",
            "vgg16 (Model)                (None, 4, 4, 512)         14714688  \n",
            "_________________________________________________________________\n",
            "flatten_2 (Flatten)          (None, 8192)              0         \n",
            "_________________________________________________________________\n",
            "dense_7 (Dense)              (None, 256)               2097408   \n",
            "_________________________________________________________________\n",
            "dense_8 (Dense)              (None, 1)                 257       \n",
            "=================================================================\n",
            "Total params: 16,812,353\n",
            "Trainable params: 2,097,665\n",
            "Non-trainable params: 14,714,688\n",
            "_________________________________________________________________\n"
          ],
          "name": "stdout"
        }
      ]
    },
    {
      "metadata": {
        "id": "E68OZRcKkQoU",
        "colab_type": "text"
      },
      "cell_type": "markdown",
      "source": [
        "### 컴파일을 수행해야 변경사항이 적용된다"
      ]
    },
    {
      "metadata": {
        "id": "uG0pDWWMHKkk",
        "colab_type": "code",
        "outputId": "dd5450c4-a203-4c90-ca5e-481b80351f9d",
        "colab": {
          "base_uri": "https://localhost:8080/",
          "height": 52
        }
      },
      "cell_type": "code",
      "source": [
        "train_datagen = ImageDataGenerator(\n",
        "  rescale= 1./255,\n",
        "  rotation_range = 40,\n",
        "  width_shift_range = 0.2,\n",
        "  height_shift_range = 0.2,\n",
        "  shear_range=0.2,\n",
        "  zoom_range=0.2,\n",
        "  horizontal_flip = True,\n",
        "  fill_mode='nearest')\n",
        "\n",
        "validation_datagen = ImageDataGenerator(rescale = 1./255)\n",
        "\n",
        "train_generator = train_datagen.flow_from_directory(directory=train_dir,\n",
        "\t\t\t\t\t\t\t\t\t\t\t   target_size=(img_width,img_height),\n",
        "\t\t\t\t\t\t\t\t\t\t\t   class_mode='binary',\n",
        "\t\t\t\t\t\t\t\t\t\t\t   batch_size=20)\n",
        "\n",
        "validation_generator = validation_datagen.flow_from_directory(directory=validation_dir,\n",
        "\t\t\t\t\t\t\t\t\t\t\t   target_size=(img_width,img_height),\n",
        "\t\t\t\t\t\t\t\t\t\t\t   class_mode='binary',\n",
        "\t\t\t\t\t\t\t\t\t\t\t   batch_size=20)\n",
        "\n",
        "\n"
      ],
      "execution_count": 0,
      "outputs": [
        {
          "output_type": "stream",
          "text": [
            "Found 2000 images belonging to 2 classes.\n",
            "Found 1000 images belonging to 2 classes.\n"
          ],
          "name": "stdout"
        }
      ]
    },
    {
      "metadata": {
        "id": "PNj36PXplaCx",
        "colab_type": "text"
      },
      "cell_type": "markdown",
      "source": [
        "### 과대적합이 줄어든 것을 볼 수 있다."
      ]
    },
    {
      "metadata": {
        "id": "Cpgy1ZUjHKhU",
        "colab_type": "code",
        "outputId": "81d42e0d-a9d6-4622-f87a-b8c9072a1680",
        "colab": {
          "base_uri": "https://localhost:8080/",
          "height": 1073
        }
      },
      "cell_type": "code",
      "source": [
        "model.compile(loss='binary_crossentropy',\n",
        "              optimizer=optimizers.RMSprop(lr=2e-5),\n",
        "              metrics=['acc'])\n",
        "\n",
        "\n",
        "history = model.fit_generator(\n",
        "    generator=train_generator, \n",
        "    steps_per_epoch=100,\n",
        "    epochs=30,\n",
        "    validation_data=validation_generator,\n",
        "    validation_steps=50)"
      ],
      "execution_count": 0,
      "outputs": [
        {
          "output_type": "stream",
          "text": [
            "Epoch 1/30\n",
            "100/100 [==============================] - 27s 267ms/step - loss: 0.5838 - acc: 0.6990 - val_loss: 0.4656 - val_acc: 0.8010\n",
            "Epoch 2/30\n",
            "100/100 [==============================] - 25s 245ms/step - loss: 0.4819 - acc: 0.7835 - val_loss: 0.3829 - val_acc: 0.8300\n",
            "Epoch 3/30\n",
            "100/100 [==============================] - 25s 248ms/step - loss: 0.4406 - acc: 0.7975 - val_loss: 0.3423 - val_acc: 0.8570\n",
            "Epoch 4/30\n",
            "100/100 [==============================] - 24s 245ms/step - loss: 0.4106 - acc: 0.8140 - val_loss: 0.3241 - val_acc: 0.8610\n",
            "Epoch 5/30\n",
            "100/100 [==============================] - 25s 246ms/step - loss: 0.3832 - acc: 0.8315 - val_loss: 0.3233 - val_acc: 0.8600\n",
            "Epoch 6/30\n",
            "100/100 [==============================] - 25s 246ms/step - loss: 0.3670 - acc: 0.8435 - val_loss: 0.3008 - val_acc: 0.8670\n",
            "Epoch 7/30\n",
            "100/100 [==============================] - 25s 247ms/step - loss: 0.3614 - acc: 0.8410 - val_loss: 0.2912 - val_acc: 0.8770\n",
            "Epoch 8/30\n",
            "100/100 [==============================] - 25s 251ms/step - loss: 0.3569 - acc: 0.8420 - val_loss: 0.2832 - val_acc: 0.8700\n",
            "Epoch 9/30\n",
            "100/100 [==============================] - 24s 244ms/step - loss: 0.3379 - acc: 0.8595 - val_loss: 0.2919 - val_acc: 0.8730\n",
            "Epoch 10/30\n",
            "100/100 [==============================] - 24s 245ms/step - loss: 0.3447 - acc: 0.8510 - val_loss: 0.2762 - val_acc: 0.8660\n",
            "Epoch 11/30\n",
            "100/100 [==============================] - 25s 249ms/step - loss: 0.3180 - acc: 0.8625 - val_loss: 0.2825 - val_acc: 0.8800\n",
            "Epoch 12/30\n",
            "100/100 [==============================] - 25s 246ms/step - loss: 0.3133 - acc: 0.8685 - val_loss: 0.2762 - val_acc: 0.8890\n",
            "Epoch 13/30\n",
            "100/100 [==============================] - 25s 247ms/step - loss: 0.3189 - acc: 0.8665 - val_loss: 0.2676 - val_acc: 0.8870\n",
            "Epoch 14/30\n",
            "100/100 [==============================] - 25s 246ms/step - loss: 0.3289 - acc: 0.8540 - val_loss: 0.2891 - val_acc: 0.8840\n",
            "Epoch 15/30\n",
            "100/100 [==============================] - 25s 247ms/step - loss: 0.3154 - acc: 0.8590 - val_loss: 0.2712 - val_acc: 0.8910\n",
            "Epoch 16/30\n",
            "100/100 [==============================] - 25s 248ms/step - loss: 0.3120 - acc: 0.8635 - val_loss: 0.2717 - val_acc: 0.8920\n",
            "Epoch 17/30\n",
            "100/100 [==============================] - 25s 246ms/step - loss: 0.2988 - acc: 0.8690 - val_loss: 0.2589 - val_acc: 0.8880\n",
            "Epoch 18/30\n",
            "100/100 [==============================] - 25s 249ms/step - loss: 0.3093 - acc: 0.8665 - val_loss: 0.2612 - val_acc: 0.8960\n",
            "Epoch 19/30\n",
            "100/100 [==============================] - 25s 245ms/step - loss: 0.3058 - acc: 0.8650 - val_loss: 0.2682 - val_acc: 0.8940\n",
            "Epoch 20/30\n",
            "100/100 [==============================] - 25s 247ms/step - loss: 0.2940 - acc: 0.8850 - val_loss: 0.2576 - val_acc: 0.8850\n",
            "Epoch 21/30\n",
            "100/100 [==============================] - 25s 248ms/step - loss: 0.3052 - acc: 0.8700 - val_loss: 0.2638 - val_acc: 0.8940\n",
            "Epoch 22/30\n",
            "100/100 [==============================] - 25s 248ms/step - loss: 0.2995 - acc: 0.8770 - val_loss: 0.2690 - val_acc: 0.8910\n",
            "Epoch 23/30\n",
            "100/100 [==============================] - 25s 250ms/step - loss: 0.2895 - acc: 0.8800 - val_loss: 0.2646 - val_acc: 0.8940\n",
            "Epoch 24/30\n",
            "100/100 [==============================] - 25s 251ms/step - loss: 0.2965 - acc: 0.8690 - val_loss: 0.2563 - val_acc: 0.8890\n",
            "Epoch 25/30\n",
            "100/100 [==============================] - 25s 247ms/step - loss: 0.2919 - acc: 0.8770 - val_loss: 0.2486 - val_acc: 0.8940\n",
            "Epoch 26/30\n",
            "100/100 [==============================] - 25s 247ms/step - loss: 0.2906 - acc: 0.8755 - val_loss: 0.2538 - val_acc: 0.8940\n",
            "Epoch 27/30\n",
            "100/100 [==============================] - 25s 247ms/step - loss: 0.2907 - acc: 0.8715 - val_loss: 0.2502 - val_acc: 0.8940\n",
            "Epoch 28/30\n",
            "100/100 [==============================] - 25s 248ms/step - loss: 0.2824 - acc: 0.8815 - val_loss: 0.2532 - val_acc: 0.8970\n",
            "Epoch 29/30\n",
            "100/100 [==============================] - 25s 247ms/step - loss: 0.2781 - acc: 0.8850 - val_loss: 0.2653 - val_acc: 0.8940\n",
            "Epoch 30/30\n",
            "100/100 [==============================] - 25s 249ms/step - loss: 0.2856 - acc: 0.8765 - val_loss: 0.2479 - val_acc: 0.8980\n"
          ],
          "name": "stdout"
        }
      ]
    },
    {
      "metadata": {
        "id": "5d1NMELUHKd-",
        "colab_type": "code",
        "outputId": "f8dda6ea-180c-458d-ae45-5da66a71f184",
        "colab": {
          "base_uri": "https://localhost:8080/",
          "height": 561
        }
      },
      "cell_type": "code",
      "source": [
        "acc = history.history['acc']\n",
        "val_acc = history.history['val_acc']\n",
        "\n",
        "loss = history.history['loss']\n",
        "val_loss = history.history['val_loss']\n",
        "\n",
        "epochs = range(len(acc))\n",
        "\n",
        "plt.plot(epochs, acc)\n",
        "plt.plot(epochs, val_acc)\n",
        "plt.title('Training and validation accuracy')\n",
        "\n",
        "plt.figure()\n",
        "\n",
        "plt.plot(epochs, loss)\n",
        "plt.plot(epochs, val_loss)\n",
        "plt.title('Training and validation loss')"
      ],
      "execution_count": 0,
      "outputs": [
        {
          "output_type": "execute_result",
          "data": {
            "text/plain": [
              "Text(0.5,1,u'Training and validation loss')"
            ]
          },
          "metadata": {
            "tags": []
          },
          "execution_count": 32
        },
        {
          "output_type": "display_data",
          "data": {
            "image/png": "[encoded data removed]",
            "text/plain": [
              "<matplotlib.figure.Figure at 0x7f706ebacb50>"
            ]
          },
          "metadata": {
            "tags": []
          }
        },
        {
          "output_type": "display_data",
          "data": {
            "image/png": "[encoded data removed]",
            "text/plain": [
              "<matplotlib.figure.Figure at 0x7f706eaf2c90>"
            ]
          },
          "metadata": {
            "tags": []
          }
        }
      ]
    },
    {
      "metadata": {
        "id": "0qC0I1Xglvbp",
        "colab_type": "text"
      },
      "cell_type": "markdown",
      "source": [
        "## 미세조정 방법\n",
        "- 상위 계층 몇개를 재학습시킨다\n",
        "- 앞에서 소개한 절차, 즉, 전결합망(top)부분을 먼저 학습시킨 후에 상위계층의 미세조정을 해야 한다 (한번에 학습하면 안되고 두 단계로 나누어야 함)\n",
        "\n",
        "         "
      ]
    },
    {
      "metadata": {
        "id": "t5XAI5qT2M8W",
        "colab_type": "code",
        "outputId": "dc939de4-625f-4af8-c821-85b776f2fb12",
        "colab": {
          "base_uri": "https://localhost:8080/",
          "height": 809
        }
      },
      "cell_type": "code",
      "source": [
        "conv_base.summary()"
      ],
      "execution_count": 0,
      "outputs": [
        {
          "output_type": "stream",
          "text": [
            "_________________________________________________________________\n",
            "Layer (type)                 Output Shape              Param #   \n",
            "=================================================================\n",
            "input_1 (InputLayer)         (None, 150, 150, 3)       0         \n",
            "_________________________________________________________________\n",
            "block1_conv1 (Conv2D)        (None, 150, 150, 64)      1792      \n",
            "_________________________________________________________________\n",
            "block1_conv2 (Conv2D)        (None, 150, 150, 64)      36928     \n",
            "_________________________________________________________________\n",
            "block1_pool (MaxPooling2D)   (None, 75, 75, 64)        0         \n",
            "_________________________________________________________________\n",
            "block2_conv1 (Conv2D)        (None, 75, 75, 128)       73856     \n",
            "_________________________________________________________________\n",
            "block2_conv2 (Conv2D)        (None, 75, 75, 128)       147584    \n",
            "_________________________________________________________________\n",
            "block2_pool (MaxPooling2D)   (None, 37, 37, 128)       0         \n",
            "_________________________________________________________________\n",
            "block3_conv1 (Conv2D)        (None, 37, 37, 256)       295168    \n",
            "_________________________________________________________________\n",
            "block3_conv2 (Conv2D)        (None, 37, 37, 256)       590080    \n",
            "_________________________________________________________________\n",
            "block3_conv3 (Conv2D)        (None, 37, 37, 256)       590080    \n",
            "_________________________________________________________________\n",
            "block3_pool (MaxPooling2D)   (None, 18, 18, 256)       0         \n",
            "_________________________________________________________________\n",
            "block4_conv1 (Conv2D)        (None, 18, 18, 512)       1180160   \n",
            "_________________________________________________________________\n",
            "block4_conv2 (Conv2D)        (None, 18, 18, 512)       2359808   \n",
            "_________________________________________________________________\n",
            "block4_conv3 (Conv2D)        (None, 18, 18, 512)       2359808   \n",
            "_________________________________________________________________\n",
            "block4_pool (MaxPooling2D)   (None, 9, 9, 512)         0         \n",
            "_________________________________________________________________\n",
            "block5_conv1 (Conv2D)        (None, 9, 9, 512)         2359808   \n",
            "_________________________________________________________________\n",
            "block5_conv2 (Conv2D)        (None, 9, 9, 512)         2359808   \n",
            "_________________________________________________________________\n",
            "block5_conv3 (Conv2D)        (None, 9, 9, 512)         2359808   \n",
            "_________________________________________________________________\n",
            "block5_pool (MaxPooling2D)   (None, 4, 4, 512)         0         \n",
            "=================================================================\n",
            "Total params: 14,714,688\n",
            "Trainable params: 0\n",
            "Non-trainable params: 14,714,688\n",
            "_________________________________________________________________\n"
          ],
          "name": "stdout"
        }
      ]
    },
    {
      "metadata": {
        "id": "RAUd8YyW2blO",
        "colab_type": "text"
      },
      "cell_type": "markdown",
      "source": [
        "### 위에서 block 5 부분만 미세조정 하겠다"
      ]
    },
    {
      "metadata": {
        "id": "pEVEbvcW2TBl",
        "colab_type": "code",
        "colab": {}
      },
      "cell_type": "code",
      "source": [
        "conv_base.trainable = True\n",
        "\n",
        "set_trainable = False\n",
        "for layer in conv_base.layers:\n",
        "  if layer.name == 'block5_conv1':\n",
        "    set_trainable = True\n",
        "  if set_trainable:\n",
        "    layer.trainable = True\n",
        "  else:\n",
        "    layer.trainable = False"
      ],
      "execution_count": 0,
      "outputs": []
    },
    {
      "metadata": {
        "id": "7uCc31nj3lJq",
        "colab_type": "text"
      },
      "cell_type": "markdown",
      "source": [
        "### 학습률을 작게 조정한다 (천천히 학습하도록)"
      ]
    },
    {
      "metadata": {
        "id": "oEZvEBLt3fZl",
        "colab_type": "code",
        "outputId": "6fd5e0a2-8996-409b-c7e3-59dcd81bb1e6",
        "colab": {
          "base_uri": "https://localhost:8080/",
          "height": 1073
        }
      },
      "cell_type": "code",
      "source": [
        "model.compile(loss='binary_crossentropy',\n",
        "              optimizer=optimizers.RMSprop(lr=1e-5),\n",
        "              metrics=['acc'])\n",
        "\n",
        "\n",
        "history = model.fit_generator(\n",
        "    generator=train_generator, \n",
        "    steps_per_epoch=100,\n",
        "    epochs=30,\n",
        "    validation_data=validation_generator,\n",
        "    validation_steps=50)"
      ],
      "execution_count": 0,
      "outputs": [
        {
          "output_type": "stream",
          "text": [
            "Epoch 1/30\n",
            "100/100 [==============================] - 28s 285ms/step - loss: 0.2898 - acc: 0.8745 - val_loss: 0.2872 - val_acc: 0.8870\n",
            "Epoch 2/30\n",
            "100/100 [==============================] - 26s 255ms/step - loss: 0.2488 - acc: 0.8930 - val_loss: 0.2480 - val_acc: 0.9010\n",
            "Epoch 3/30\n",
            "100/100 [==============================] - 26s 261ms/step - loss: 0.2265 - acc: 0.9055 - val_loss: 0.2057 - val_acc: 0.9200\n",
            "Epoch 4/30\n",
            "100/100 [==============================] - 26s 257ms/step - loss: 0.2225 - acc: 0.9080 - val_loss: 0.1944 - val_acc: 0.9360\n",
            "Epoch 5/30\n",
            "100/100 [==============================] - 26s 256ms/step - loss: 0.2114 - acc: 0.9125 - val_loss: 0.2187 - val_acc: 0.9280\n",
            "Epoch 6/30\n",
            "100/100 [==============================] - 26s 256ms/step - loss: 0.1988 - acc: 0.9205 - val_loss: 0.1981 - val_acc: 0.9280\n",
            "Epoch 7/30\n",
            "100/100 [==============================] - 26s 255ms/step - loss: 0.1768 - acc: 0.9310 - val_loss: 0.1805 - val_acc: 0.9350\n",
            "Epoch 8/30\n",
            "100/100 [==============================] - 25s 253ms/step - loss: 0.1689 - acc: 0.9230 - val_loss: 0.2232 - val_acc: 0.9260\n",
            "Epoch 9/30\n",
            "100/100 [==============================] - 26s 255ms/step - loss: 0.1699 - acc: 0.9305 - val_loss: 0.1943 - val_acc: 0.9360\n",
            "Epoch 10/30\n",
            "100/100 [==============================] - 25s 255ms/step - loss: 0.1735 - acc: 0.9245 - val_loss: 0.1785 - val_acc: 0.9330\n",
            "Epoch 11/30\n",
            "100/100 [==============================] - 26s 257ms/step - loss: 0.1526 - acc: 0.9405 - val_loss: 0.2011 - val_acc: 0.9260\n",
            "Epoch 12/30\n",
            "100/100 [==============================] - 25s 255ms/step - loss: 0.1372 - acc: 0.9465 - val_loss: 0.1657 - val_acc: 0.9360\n",
            "Epoch 13/30\n",
            "100/100 [==============================] - 25s 254ms/step - loss: 0.1399 - acc: 0.9460 - val_loss: 0.2679 - val_acc: 0.9100\n",
            "Epoch 14/30\n",
            "100/100 [==============================] - 25s 251ms/step - loss: 0.1200 - acc: 0.9485 - val_loss: 0.2469 - val_acc: 0.9280\n",
            "Epoch 15/30\n",
            "100/100 [==============================] - 26s 259ms/step - loss: 0.1237 - acc: 0.9550 - val_loss: 0.1711 - val_acc: 0.9440\n",
            "Epoch 16/30\n",
            "100/100 [==============================] - 25s 253ms/step - loss: 0.0965 - acc: 0.9630 - val_loss: 0.2219 - val_acc: 0.9330\n",
            "Epoch 17/30\n",
            "100/100 [==============================] - 26s 255ms/step - loss: 0.1158 - acc: 0.9555 - val_loss: 0.1449 - val_acc: 0.9470\n",
            "Epoch 18/30\n",
            "100/100 [==============================] - 26s 256ms/step - loss: 0.1193 - acc: 0.9520 - val_loss: 0.2054 - val_acc: 0.9320\n",
            "Epoch 19/30\n",
            "100/100 [==============================] - 25s 254ms/step - loss: 0.1006 - acc: 0.9585 - val_loss: 0.2758 - val_acc: 0.9260\n",
            "Epoch 20/30\n",
            "100/100 [==============================] - 26s 259ms/step - loss: 0.0958 - acc: 0.9620 - val_loss: 0.1921 - val_acc: 0.9430\n",
            "Epoch 21/30\n",
            "100/100 [==============================] - 26s 258ms/step - loss: 0.0874 - acc: 0.9660 - val_loss: 0.1872 - val_acc: 0.9420\n",
            "Epoch 22/30\n",
            "100/100 [==============================] - 26s 260ms/step - loss: 0.0860 - acc: 0.9635 - val_loss: 0.2916 - val_acc: 0.9210\n",
            "Epoch 23/30\n",
            "100/100 [==============================] - 26s 260ms/step - loss: 0.0909 - acc: 0.9680 - val_loss: 0.2680 - val_acc: 0.9120\n",
            "Epoch 24/30\n",
            "100/100 [==============================] - 26s 257ms/step - loss: 0.0836 - acc: 0.9660 - val_loss: 0.1703 - val_acc: 0.9460\n",
            "Epoch 25/30\n",
            "100/100 [==============================] - 26s 259ms/step - loss: 0.0915 - acc: 0.9655 - val_loss: 0.1696 - val_acc: 0.9430\n",
            "Epoch 26/30\n",
            "100/100 [==============================] - 26s 258ms/step - loss: 0.0813 - acc: 0.9720 - val_loss: 0.2429 - val_acc: 0.9360\n",
            "Epoch 27/30\n",
            "100/100 [==============================] - 26s 262ms/step - loss: 0.0696 - acc: 0.9760 - val_loss: 0.3361 - val_acc: 0.9170\n",
            "Epoch 28/30\n",
            "100/100 [==============================] - 26s 259ms/step - loss: 0.0614 - acc: 0.9785 - val_loss: 0.1933 - val_acc: 0.9460\n",
            "Epoch 29/30\n",
            "100/100 [==============================] - 26s 258ms/step - loss: 0.0768 - acc: 0.9670 - val_loss: 0.2124 - val_acc: 0.9500\n",
            "Epoch 30/30\n",
            "100/100 [==============================] - 26s 259ms/step - loss: 0.0744 - acc: 0.9705 - val_loss: 0.2617 - val_acc: 0.9300\n"
          ],
          "name": "stdout"
        }
      ]
    },
    {
      "metadata": {
        "id": "QCbU7FQU47OP",
        "colab_type": "text"
      },
      "cell_type": "markdown",
      "source": [
        "## 성능이 92%로 1% 정도 향상되었다.\n",
        "- 주의 할 것은 손실함수는 향상되지 않는 것으로 나타나도, 성능이 향상될 수 있다는 것이다. (분류 성능은 어떤 임계값만 넘으면 활률적으로 개선될 수 있다)\n",
        "\n",
        "## 요약\n",
        "- 과대적합을 줄이기 위해서 데이터 확장을 사용\n",
        "- 전이학습 중 특성 추출방식 소개\n",
        "- 전이학습 중 미세조정 방식 소개"
      ]
    },
    {
      "metadata": {
        "id": "8zFN7erS5SEV",
        "colab_type": "code",
        "colab": {}
      },
      "cell_type": "code",
      "source": [
        ""
      ],
      "execution_count": 0,
      "outputs": []
    }
  ]
}