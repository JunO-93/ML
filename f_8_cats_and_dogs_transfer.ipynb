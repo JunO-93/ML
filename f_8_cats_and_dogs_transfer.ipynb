{
  "nbformat": 4,
  "nbformat_minor": 0,
  "metadata": {
    "colab": {
      "name": "f-8-cats-and-dogs-transfer의 사본",
      "version": "0.3.2",
      "provenance": [],
      "collapsed_sections": [],
      "include_colab_link": true
    },
    "kernelspec": {
      "name": "python2",
      "display_name": "Python 2"
    },
    "accelerator": "GPU"
  },
  "cells": [
    {
      "cell_type": "markdown",
      "metadata": {
        "id": "view-in-github",
        "colab_type": "text"
      },
      "source": [
        "<a href=\"https://colab.research.google.com/github/Ssaragi/ML/blob/master/f_8_cats_and_dogs_transfer.ipynb\" target=\"_parent\"><img src=\"https://colab.research.google.com/assets/colab-badge.svg\" alt=\"Open In Colab\"/></a>"
      ]
    },
    {
      "metadata": {
        "colab_type": "text",
        "id": "YHK6DyunSbs4"
      },
      "cell_type": "markdown",
      "source": [
        "# 전이학습 고양이 강아지 구분\n",
        "## VGG16 (2014)\n",
        "- 이미지넷으로 사전 훈련된 네트워크를 사용\n",
        "- 1000개의 객체를 구분하는 모델이나, 여기서는 고양이, 강아지 구분에 사용  \n",
        "\n",
        "## 1) 특성추출 방식\n",
        "- 합성곱 필터링 영역(convolutional base)를 그대로 사용\n",
        "- 공통되는 특성만 추출하여 사용한다\n",
        "- 전결합망 부분은 새로운 데이터 (고양이/강아지)로 학습을 다시 시킨다\n",
        "\n",
        "\n",
        "## 2) 미세 조정 방식\n"
      ]
    },
    {
      "metadata": {
        "colab_type": "text",
        "id": "UY6KJV6z6l7_"
      },
      "cell_type": "markdown",
      "source": [
        "## 데이터 다운로드"
      ]
    },
    {
      "metadata": {
        "id": "BintRJjr1QvS",
        "colab_type": "code",
        "colab": {
          "base_uri": "https://localhost:8080/",
          "height": 34
        },
        "outputId": "fd571c44-4d4b-4838-d2ec-28873e119a0a"
      },
      "cell_type": "code",
      "source": [
        "import os, os.path, shutil\n",
        "import zipfile\n",
        "%matplotlib inline\n",
        "\n",
        "import matplotlib.pyplot as plt\n",
        "import matplotlib.image as mpimg\n",
        "from keras.applications import VGG16"
      ],
      "execution_count": 1,
      "outputs": [
        {
          "output_type": "stream",
          "text": [
            "Using TensorFlow backend.\n"
          ],
          "name": "stderr"
        }
      ]
    },
    {
      "metadata": {
        "id": "mxOElr1tG82n",
        "colab_type": "text"
      },
      "cell_type": "markdown",
      "source": [
        "## VGG16으로 사전학습된 가중치 가져오기\n",
        "- include_top은 기존의 1000개 전결합망 분류기를 포함할지를 선택"
      ]
    },
    {
      "metadata": {
        "id": "39bxJu-BGL9N",
        "colab_type": "code",
        "colab": {}
      },
      "cell_type": "code",
      "source": [
        "conv_base = VGG16(weights = 'imagenet',\n",
        "                 include_top=False,\n",
        "                 input_shape=(150, 150, 3))"
      ],
      "execution_count": 0,
      "outputs": []
    },
    {
      "metadata": {
        "id": "84MocF__GLuw",
        "colab_type": "code",
        "outputId": "b31f5317-73b4-40c4-9afd-d5ae9cc73068",
        "colab": {
          "base_uri": "https://localhost:8080/",
          "height": 809
        }
      },
      "cell_type": "code",
      "source": [
        "conv_base.summary()"
      ],
      "execution_count": 3,
      "outputs": [
        {
          "output_type": "stream",
          "text": [
            "_________________________________________________________________\n",
            "Layer (type)                 Output Shape              Param #   \n",
            "=================================================================\n",
            "input_1 (InputLayer)         (None, 150, 150, 3)       0         \n",
            "_________________________________________________________________\n",
            "block1_conv1 (Conv2D)        (None, 150, 150, 64)      1792      \n",
            "_________________________________________________________________\n",
            "block1_conv2 (Conv2D)        (None, 150, 150, 64)      36928     \n",
            "_________________________________________________________________\n",
            "block1_pool (MaxPooling2D)   (None, 75, 75, 64)        0         \n",
            "_________________________________________________________________\n",
            "block2_conv1 (Conv2D)        (None, 75, 75, 128)       73856     \n",
            "_________________________________________________________________\n",
            "block2_conv2 (Conv2D)        (None, 75, 75, 128)       147584    \n",
            "_________________________________________________________________\n",
            "block2_pool (MaxPooling2D)   (None, 37, 37, 128)       0         \n",
            "_________________________________________________________________\n",
            "block3_conv1 (Conv2D)        (None, 37, 37, 256)       295168    \n",
            "_________________________________________________________________\n",
            "block3_conv2 (Conv2D)        (None, 37, 37, 256)       590080    \n",
            "_________________________________________________________________\n",
            "block3_conv3 (Conv2D)        (None, 37, 37, 256)       590080    \n",
            "_________________________________________________________________\n",
            "block3_pool (MaxPooling2D)   (None, 18, 18, 256)       0         \n",
            "_________________________________________________________________\n",
            "block4_conv1 (Conv2D)        (None, 18, 18, 512)       1180160   \n",
            "_________________________________________________________________\n",
            "block4_conv2 (Conv2D)        (None, 18, 18, 512)       2359808   \n",
            "_________________________________________________________________\n",
            "block4_conv3 (Conv2D)        (None, 18, 18, 512)       2359808   \n",
            "_________________________________________________________________\n",
            "block4_pool (MaxPooling2D)   (None, 9, 9, 512)         0         \n",
            "_________________________________________________________________\n",
            "block5_conv1 (Conv2D)        (None, 9, 9, 512)         2359808   \n",
            "_________________________________________________________________\n",
            "block5_conv2 (Conv2D)        (None, 9, 9, 512)         2359808   \n",
            "_________________________________________________________________\n",
            "block5_conv3 (Conv2D)        (None, 9, 9, 512)         2359808   \n",
            "_________________________________________________________________\n",
            "block5_pool (MaxPooling2D)   (None, 4, 4, 512)         0         \n",
            "=================================================================\n",
            "Total params: 14,714,688\n",
            "Trainable params: 14,714,688\n",
            "Non-trainable params: 0\n",
            "_________________________________________________________________\n"
          ],
          "name": "stdout"
        }
      ]
    },
    {
      "metadata": {
        "id": "wLStHmXaMqja",
        "colab_type": "text"
      },
      "cell_type": "markdown",
      "source": [
        "## 두가지 옵션이 가능하다\n",
        "### 1) 합성곱 기반을 통과한 출력을 저장한 후 이를 전결합망에 통과\n",
        "- 데이터 확장은 사용할 수 없다\n",
        "- 실행이 빠르다\n",
        "\n",
        "### 2) 모델에 Dense망을 추가하고 학습을 수행\n",
        "- 데이터 확장을 사용할 수 있다.\n",
        "- 비용이 많이 든다\n",
        "\n",
        "\n",
        "### 1) 방식을 먼저 수행한다.\n"
      ]
    },
    {
      "metadata": {
        "id": "kkMqucDvN0Qy",
        "colab_type": "text"
      },
      "cell_type": "markdown",
      "source": [
        "### 데이터 읽기"
      ]
    },
    {
      "metadata": {
        "id": "r9hD7mAvGLVZ",
        "colab_type": "code",
        "colab": {}
      },
      "cell_type": "code",
      "source": [
        ""
      ],
      "execution_count": 0,
      "outputs": []
    },
    {
      "metadata": {
        "id": "JHHE2t4yxpMU",
        "colab_type": "code",
        "colab": {}
      },
      "cell_type": "code",
      "source": [
        "if not os.path.exists(\"./data\"):\n",
        "    os.makedirs(\"./data\")\n",
        "if not os.path.exists(\"./data/cats_and_dogs_filtered.zip\"):\n",
        "  !wget --no-check-certificate \\\n",
        "    https://storage.googleapis.com/mledu-datasets/cats_and_dogs_filtered.zip \\\n",
        "    -O ./data/cats_and_dogs_filtered.zip"
      ],
      "execution_count": 0,
      "outputs": []
    },
    {
      "metadata": {
        "id": "rB0mr2KJzs3M",
        "colab_type": "code",
        "outputId": "23fd0079-9d85-4f57-df5d-a50339fc7422",
        "colab": {
          "base_uri": "https://localhost:8080/",
          "height": 34
        }
      },
      "cell_type": "code",
      "source": [
        "!ls data"
      ],
      "execution_count": 5,
      "outputs": [
        {
          "output_type": "stream",
          "text": [
            "cats_and_dogs_filtered\tcats_and_dogs_filtered.zip\n"
          ],
          "name": "stdout"
        }
      ]
    },
    {
      "metadata": {
        "colab_type": "code",
        "id": "PLy3pthUS0D2",
        "colab": {}
      },
      "cell_type": "code",
      "source": [
        "local_zip = './data/cats_and_dogs_filtered.zip'\n",
        "zip_ref = zipfile.ZipFile(local_zip, 'r')\n",
        "zip_ref.extractall('./data')\n",
        "zip_ref.close()"
      ],
      "execution_count": 0,
      "outputs": []
    },
    {
      "metadata": {
        "id": "VeJd7lxOy26s",
        "colab_type": "code",
        "outputId": "259d60a6-297f-4f02-858b-85fb99101568",
        "colab": {
          "base_uri": "https://localhost:8080/",
          "height": 105
        }
      },
      "cell_type": "code",
      "source": [
        "!apt-get install tree"
      ],
      "execution_count": 7,
      "outputs": [
        {
          "output_type": "stream",
          "text": [
            "Reading package lists... Done\n",
            "Building dependency tree       \n",
            "Reading state information... Done\n",
            "tree is already the newest version (1.7.0-5).\n",
            "0 upgraded, 0 newly installed, 0 to remove and 10 not upgraded.\n"
          ],
          "name": "stdout"
        }
      ]
    },
    {
      "metadata": {
        "id": "eKBizBLr0M8w",
        "colab_type": "code",
        "outputId": "51416042-d88b-44cc-8c56-27e663c2f0fe",
        "colab": {
          "base_uri": "https://localhost:8080/",
          "height": 228
        }
      },
      "cell_type": "code",
      "source": [
        "!tree -d ."
      ],
      "execution_count": 8,
      "outputs": [
        {
          "output_type": "stream",
          "text": [
            ".\n",
            "├── data\n",
            "│   └── cats_and_dogs_filtered\n",
            "│       ├── train\n",
            "│       │   ├── cats\n",
            "│       │   └── dogs\n",
            "│       └── validation\n",
            "│           ├── cats\n",
            "│           └── dogs\n",
            "└── sample_data\n",
            "\n",
            "9 directories\n"
          ],
          "name": "stdout"
        }
      ]
    },
    {
      "metadata": {
        "colab_type": "code",
        "id": "MLZKVtE0dSfk",
        "colab": {}
      },
      "cell_type": "code",
      "source": [
        "base_dir = './data/cats_and_dogs_filtered'\n",
        "train_dir = os.path.join(base_dir, 'train')\n",
        "validation_dir = os.path.join(base_dir, 'validation')"
      ],
      "execution_count": 0,
      "outputs": []
    },
    {
      "metadata": {
        "id": "I-gqmVtXI1If",
        "colab_type": "code",
        "outputId": "fa44bc61-3760-4cb3-ebc3-c4b7cc76b1d9",
        "colab": {
          "base_uri": "https://localhost:8080/",
          "height": 34
        }
      },
      "cell_type": "code",
      "source": [
        "train_dir"
      ],
      "execution_count": 10,
      "outputs": [
        {
          "output_type": "execute_result",
          "data": {
            "text/plain": [
              "'./data/cats_and_dogs_filtered/train'"
            ]
          },
          "metadata": {
            "tags": []
          },
          "execution_count": 10
        }
      ]
    },
    {
      "metadata": {
        "colab_type": "text",
        "id": "5oqBkNBJmtUv"
      },
      "cell_type": "markdown",
      "source": [
        "## 특성추출만 사용한 모델 (데이터 증식은 사용하지 않는 방식)\n",
        "- ImageDataGenerator를 사용하여 이미지와 레이블을 생성\n",
        "- conv_base 모델의 predict를 사용하여 이미지의 특성을 추출\n",
        "- 마지막 출력의 크기가 (4, 4, 512)이다.\n"
      ]
    },
    {
      "metadata": {
        "colab_type": "code",
        "id": "IYVLSfbsbf9K",
        "colab": {}
      },
      "cell_type": "code",
      "source": [
        "from keras import layers\n",
        "from keras import models\n",
        "from keras import optimizers\n",
        "from keras.preprocessing import image\n",
        "from keras.preprocessing.image import ImageDataGenerator\n",
        "import numpy as np "
      ],
      "execution_count": 0,
      "outputs": []
    },
    {
      "metadata": {
        "id": "zKpFv6lSGmtR",
        "colab_type": "code",
        "outputId": "b343f5c4-d475-4f3e-9f44-b3231454176e",
        "colab": {
          "base_uri": "https://localhost:8080/",
          "height": 281
        }
      },
      "cell_type": "code",
      "source": [
        "img_width = 150\n",
        "img_height = 150\n",
        "batch_size=20\n",
        "\n",
        "datagen = ImageDataGenerator(rescale = 1./255)\n",
        "\n",
        "def extract_features(directory, sample_count):\n",
        "  features = np.zeros(shape=(sample_count, 4, 4, 512))\n",
        "  labels = np.zeros(shape=(sample_count))\n",
        "  generator = datagen.flow_from_directory(\n",
        "      directory,\n",
        " \t    target_size=(img_width,img_height),\n",
        "      class_mode='binary',\n",
        "\t\t\tbatch_size=batch_size)\n",
        "  i=1\n",
        "  for inputs_batch, labels_batch in generator:\n",
        "    features_batch = conv_base.predict(inputs_batch)\n",
        "    features[i*batch_size:(i+1)*batch_size] = features_batch\n",
        "    labels[i*batch_size:(i+1)*batch_size] = labels_batch\n",
        "    i += 1\n",
        "    if i* batch_size >= sample_count:\n",
        "      break\n",
        "  return features, labels\n",
        "\n",
        "train_features, train_labels = extract_features(train_dir, 2000)\n",
        "validation_features, validation_labels = extract_features(validation_dir, 1000)\n",
        "\n",
        "train_features = np.reshape(train_features, (2000, 4*4*512))\n",
        "validation_features = np.reshape(validation_features, (1000, 4*4*512))\n",
        "\n",
        "    \n",
        "model = models.Sequential()\n",
        "\n",
        "model.add(layers.Dense(512, activation='relu', input_dim= 4*4*512))\n",
        "model.add(layers.Dropout(0.5))\n",
        "model.add(layers.Dense(1, activation='sigmoid'))\n",
        "\n",
        "model.summary()"
      ],
      "execution_count": 12,
      "outputs": [
        {
          "output_type": "stream",
          "text": [
            "Found 2000 images belonging to 2 classes.\n",
            "Found 1000 images belonging to 2 classes.\n",
            "_________________________________________________________________\n",
            "Layer (type)                 Output Shape              Param #   \n",
            "=================================================================\n",
            "dense_1 (Dense)              (None, 512)               4194816   \n",
            "_________________________________________________________________\n",
            "dropout_1 (Dropout)          (None, 512)               0         \n",
            "_________________________________________________________________\n",
            "dense_2 (Dense)              (None, 1)                 513       \n",
            "=================================================================\n",
            "Total params: 4,195,329\n",
            "Trainable params: 4,195,329\n",
            "Non-trainable params: 0\n",
            "_________________________________________________________________\n"
          ],
          "name": "stdout"
        }
      ]
    },
    {
      "metadata": {
        "id": "hxITBhxQDwkd",
        "colab_type": "code",
        "outputId": "c77923f4-cf9f-4baa-fca2-b33a0adfeb58",
        "colab": {
          "base_uri": "https://localhost:8080/",
          "height": 1090
        }
      },
      "cell_type": "code",
      "source": [
        "model.compile(loss='binary_crossentropy',\n",
        "              optimizer=optimizers.RMSprop(lr=2e-5),\n",
        "              metrics=['acc'])\n",
        "history = model.fit(\n",
        "    train_features, train_labels,\n",
        "    epochs=30,\n",
        "    validation_data= (validation_features, validation_labels),\n",
        "    batch_size=batch_size)"
      ],
      "execution_count": 13,
      "outputs": [
        {
          "output_type": "stream",
          "text": [
            "Train on 2000 samples, validate on 1000 samples\n",
            "Epoch 1/30\n",
            "2000/2000 [==============================] - 2s 827us/step - loss: 0.5698 - acc: 0.7055 - val_loss: 0.3925 - val_acc: 0.8630\n",
            "Epoch 2/30\n",
            "2000/2000 [==============================] - 1s 558us/step - loss: 0.3916 - acc: 0.8285 - val_loss: 0.3339 - val_acc: 0.8670\n",
            "Epoch 3/30\n",
            "2000/2000 [==============================] - 1s 561us/step - loss: 0.3239 - acc: 0.8645 - val_loss: 0.3145 - val_acc: 0.8720\n",
            "Epoch 4/30\n",
            "2000/2000 [==============================] - 1s 549us/step - loss: 0.2842 - acc: 0.8785 - val_loss: 0.3140 - val_acc: 0.8650\n",
            "Epoch 5/30\n",
            "2000/2000 [==============================] - 1s 526us/step - loss: 0.2589 - acc: 0.8995 - val_loss: 0.2857 - val_acc: 0.8820\n",
            "Epoch 6/30\n",
            "2000/2000 [==============================] - 1s 523us/step - loss: 0.2404 - acc: 0.9105 - val_loss: 0.2799 - val_acc: 0.8840\n",
            "Epoch 7/30\n",
            "2000/2000 [==============================] - 1s 526us/step - loss: 0.2159 - acc: 0.9250 - val_loss: 0.2906 - val_acc: 0.8840\n",
            "Epoch 8/30\n",
            "2000/2000 [==============================] - 1s 527us/step - loss: 0.2051 - acc: 0.9250 - val_loss: 0.2730 - val_acc: 0.8860\n",
            "Epoch 9/30\n",
            "2000/2000 [==============================] - 1s 528us/step - loss: 0.1950 - acc: 0.9340 - val_loss: 0.2700 - val_acc: 0.8860\n",
            "Epoch 10/30\n",
            "2000/2000 [==============================] - 1s 540us/step - loss: 0.1774 - acc: 0.9405 - val_loss: 0.2677 - val_acc: 0.8880\n",
            "Epoch 11/30\n",
            "2000/2000 [==============================] - 1s 532us/step - loss: 0.1705 - acc: 0.9390 - val_loss: 0.2663 - val_acc: 0.8850\n",
            "Epoch 12/30\n",
            "2000/2000 [==============================] - 1s 528us/step - loss: 0.1607 - acc: 0.9420 - val_loss: 0.2716 - val_acc: 0.8930\n",
            "Epoch 13/30\n",
            "2000/2000 [==============================] - 1s 523us/step - loss: 0.1509 - acc: 0.9495 - val_loss: 0.2651 - val_acc: 0.8890\n",
            "Epoch 14/30\n",
            "2000/2000 [==============================] - 1s 523us/step - loss: 0.1476 - acc: 0.9515 - val_loss: 0.2683 - val_acc: 0.8900\n",
            "Epoch 15/30\n",
            "2000/2000 [==============================] - 1s 532us/step - loss: 0.1379 - acc: 0.9510 - val_loss: 0.2711 - val_acc: 0.8840\n",
            "Epoch 16/30\n",
            "2000/2000 [==============================] - 1s 527us/step - loss: 0.1309 - acc: 0.9600 - val_loss: 0.2667 - val_acc: 0.8920\n",
            "Epoch 17/30\n",
            "2000/2000 [==============================] - 1s 519us/step - loss: 0.1214 - acc: 0.9635 - val_loss: 0.2658 - val_acc: 0.8900\n",
            "Epoch 18/30\n",
            "2000/2000 [==============================] - 1s 522us/step - loss: 0.1170 - acc: 0.9630 - val_loss: 0.2710 - val_acc: 0.8890\n",
            "Epoch 19/30\n",
            "2000/2000 [==============================] - 1s 520us/step - loss: 0.1145 - acc: 0.9650 - val_loss: 0.2668 - val_acc: 0.8920\n",
            "Epoch 20/30\n",
            "2000/2000 [==============================] - 1s 517us/step - loss: 0.1067 - acc: 0.9690 - val_loss: 0.2670 - val_acc: 0.8910\n",
            "Epoch 21/30\n",
            "2000/2000 [==============================] - 1s 520us/step - loss: 0.1045 - acc: 0.9675 - val_loss: 0.2670 - val_acc: 0.8930\n",
            "Epoch 22/30\n",
            "2000/2000 [==============================] - 1s 520us/step - loss: 0.1024 - acc: 0.9670 - val_loss: 0.2688 - val_acc: 0.8940\n",
            "Epoch 23/30\n",
            "2000/2000 [==============================] - 1s 525us/step - loss: 0.0895 - acc: 0.9765 - val_loss: 0.2686 - val_acc: 0.8940\n",
            "Epoch 24/30\n",
            "2000/2000 [==============================] - 1s 527us/step - loss: 0.0896 - acc: 0.9780 - val_loss: 0.2780 - val_acc: 0.8850\n",
            "Epoch 25/30\n",
            "2000/2000 [==============================] - 1s 525us/step - loss: 0.0838 - acc: 0.9740 - val_loss: 0.2713 - val_acc: 0.8950\n",
            "Epoch 26/30\n",
            "2000/2000 [==============================] - 1s 529us/step - loss: 0.0793 - acc: 0.9800 - val_loss: 0.2792 - val_acc: 0.8860\n",
            "Epoch 27/30\n",
            "2000/2000 [==============================] - 1s 529us/step - loss: 0.0783 - acc: 0.9775 - val_loss: 0.2955 - val_acc: 0.8820\n",
            "Epoch 28/30\n",
            "2000/2000 [==============================] - 1s 534us/step - loss: 0.0708 - acc: 0.9855 - val_loss: 0.2806 - val_acc: 0.8900\n",
            "Epoch 29/30\n",
            "2000/2000 [==============================] - 1s 528us/step - loss: 0.0688 - acc: 0.9830 - val_loss: 0.2770 - val_acc: 0.9010\n",
            "Epoch 30/30\n",
            "2000/2000 [==============================] - 1s 527us/step - loss: 0.0651 - acc: 0.9865 - val_loss: 0.2759 - val_acc: 0.9000\n"
          ],
          "name": "stdout"
        }
      ]
    },
    {
      "metadata": {
        "colab_type": "text",
        "id": "Q5Vulban4ZrD"
      },
      "cell_type": "markdown",
      "source": [
        "## 성능 확인"
      ]
    },
    {
      "metadata": {
        "colab_type": "code",
        "id": "0oj0gTIy4k60",
        "outputId": "1c7ba125-8df5-4904-fa9e-b29f703c834e",
        "colab": {
          "base_uri": "https://localhost:8080/",
          "height": 561
        }
      },
      "cell_type": "code",
      "source": [
        "acc = history.history['acc']\n",
        "val_acc = history.history['val_acc']\n",
        "\n",
        "loss = history.history['loss']\n",
        "val_loss = history.history['val_loss']\n",
        "\n",
        "epochs = range(len(acc))\n",
        "\n",
        "plt.plot(epochs, acc)\n",
        "plt.plot(epochs, val_acc)\n",
        "plt.title('Training and validation accuracy')\n",
        "\n",
        "plt.figure()\n",
        "\n",
        "plt.plot(epochs, loss)\n",
        "plt.plot(epochs, val_loss)\n",
        "plt.title('Training and validation loss')"
      ],
      "execution_count": 14,
      "outputs": [
        {
          "output_type": "execute_result",
          "data": {
            "text/plain": [
              "Text(0.5,1,u'Training and validation loss')"
            ]
          },
          "metadata": {
            "tags": []
          },
          "execution_count": 14
        },
        {
          "output_type": "display_data",
          "data": {
            "image/png": "[encoded data removed]",
            "text/plain": [
              "<matplotlib.figure.Figure at 0x7fb370f3acd0>"
            ]
          },
          "metadata": {
            "tags": []
          }
        },
        {
          "output_type": "display_data",
          "data": {
            "image/png": "[encoded data removed]",
            "text/plain": [
              "<matplotlib.figure.Figure at 0x7fb370f22a50>"
            ]
          },
          "metadata": {
            "tags": []
          }
        }
      ]
    },
    {
      "metadata": {
        "colab_type": "text",
        "id": "DgmSjUST4qoS"
      },
      "cell_type": "markdown",
      "source": [
        "### 과대적합이 발생한 것을 알 수 있다.\n",
        "- 훈련 데이터가 부족하다\n",
        "- 데이터 확장을 사용하여 개선할 수 있다."
      ]
    },
    {
      "metadata": {
        "id": "zY8xC3RKIMjf",
        "colab_type": "text"
      },
      "cell_type": "markdown",
      "source": [
        "### 2) 모델에 Dense망을 추가하고 학습을 수행\n",
        "- 데이터 확장을 사용할 수 있다.\n",
        "- 비용이 많이 든다\n",
        "- 엔드-투-엔드로 실행한다"
      ]
    },
    {
      "metadata": {
        "id": "dEPZtbjoYyko",
        "colab_type": "code",
        "outputId": "ea5de9ee-8a50-4ea1-e197-28d7ea477c3e",
        "colab": {
          "base_uri": "https://localhost:8080/",
          "height": 281
        }
      },
      "cell_type": "code",
      "source": [
        "# 모델\n",
        "\n",
        "model = models.Sequential()\n",
        "model.add(conv_base)\n",
        "\n",
        "model.add(layers.Flatten())\n",
        "model.add(layers.Dense(256, activation='relu'))\n",
        "model.add(layers.Dense(1, activation='sigmoid'))\n",
        "\n",
        "model.summary()"
      ],
      "execution_count": 15,
      "outputs": [
        {
          "output_type": "stream",
          "text": [
            "_________________________________________________________________\n",
            "Layer (type)                 Output Shape              Param #   \n",
            "=================================================================\n",
            "vgg16 (Model)                (None, 4, 4, 512)         14714688  \n",
            "_________________________________________________________________\n",
            "flatten_1 (Flatten)          (None, 8192)              0         \n",
            "_________________________________________________________________\n",
            "dense_3 (Dense)              (None, 256)               2097408   \n",
            "_________________________________________________________________\n",
            "dense_4 (Dense)              (None, 1)                 257       \n",
            "=================================================================\n",
            "Total params: 16,812,353\n",
            "Trainable params: 16,812,353\n",
            "Non-trainable params: 0\n",
            "_________________________________________________________________\n"
          ],
          "name": "stdout"
        }
      ]
    },
    {
      "metadata": {
        "id": "cRwp7DKRZNey",
        "colab_type": "text"
      },
      "cell_type": "markdown",
      "source": [
        "## 학습을 동결하지 않으면 모두 재 학습된다!"
      ]
    },
    {
      "metadata": {
        "id": "81xIo14SZaM_",
        "colab_type": "code",
        "outputId": "e1ba0a4d-588c-4f57-fc3e-3b32f359169a",
        "colab": {
          "base_uri": "https://localhost:8080/",
          "height": 34
        }
      },
      "cell_type": "code",
      "source": [
        "print(len(model.trainable_weights))"
      ],
      "execution_count": 16,
      "outputs": [
        {
          "output_type": "stream",
          "text": [
            "30\n"
          ],
          "name": "stdout"
        }
      ]
    },
    {
      "metadata": {
        "id": "1I-bJVROjbEi",
        "colab_type": "code",
        "colab": {}
      },
      "cell_type": "code",
      "source": [
        "conv_base.trainable = False"
      ],
      "execution_count": 0,
      "outputs": []
    },
    {
      "metadata": {
        "id": "MN5_TfDJjisU",
        "colab_type": "code",
        "outputId": "5204d124-ca25-43f4-b053-fa7bc0adc7b3",
        "colab": {
          "base_uri": "https://localhost:8080/",
          "height": 34
        }
      },
      "cell_type": "code",
      "source": [
        "print(len(model.trainable_weights))"
      ],
      "execution_count": 18,
      "outputs": [
        {
          "output_type": "stream",
          "text": [
            "4\n"
          ],
          "name": "stdout"
        }
      ]
    },
    {
      "metadata": {
        "id": "OUz97nA0jr_y",
        "colab_type": "code",
        "outputId": "40e5ce0c-5bb0-4ba5-99ed-d9fac7d91844",
        "colab": {
          "base_uri": "https://localhost:8080/",
          "height": 281
        }
      },
      "cell_type": "code",
      "source": [
        "model.summary()"
      ],
      "execution_count": 19,
      "outputs": [
        {
          "output_type": "stream",
          "text": [
            "_________________________________________________________________\n",
            "Layer (type)                 Output Shape              Param #   \n",
            "=================================================================\n",
            "vgg16 (Model)                (None, 4, 4, 512)         14714688  \n",
            "_________________________________________________________________\n",
            "flatten_1 (Flatten)          (None, 8192)              0         \n",
            "_________________________________________________________________\n",
            "dense_3 (Dense)              (None, 256)               2097408   \n",
            "_________________________________________________________________\n",
            "dense_4 (Dense)              (None, 1)                 257       \n",
            "=================================================================\n",
            "Total params: 16,812,353\n",
            "Trainable params: 2,097,665\n",
            "Non-trainable params: 14,714,688\n",
            "_________________________________________________________________\n"
          ],
          "name": "stdout"
        }
      ]
    },
    {
      "metadata": {
        "id": "E68OZRcKkQoU",
        "colab_type": "text"
      },
      "cell_type": "markdown",
      "source": [
        "### 컴파일을 수행해야 변경사항이 적용된다"
      ]
    },
    {
      "metadata": {
        "id": "uG0pDWWMHKkk",
        "colab_type": "code",
        "outputId": "3eea928c-11ff-481f-e003-8c3f6ee94abd",
        "colab": {
          "base_uri": "https://localhost:8080/",
          "height": 52
        }
      },
      "cell_type": "code",
      "source": [
        "train_datagen = ImageDataGenerator(\n",
        "  rescale= 1./255,\n",
        "  rotation_range = 40,\n",
        "  width_shift_range = 0.2,\n",
        "  height_shift_range = 0.2,\n",
        "  shear_range=0.2,\n",
        "  zoom_range=0.2,\n",
        "  horizontal_flip = True,\n",
        "  fill_mode='nearest')\n",
        "\n",
        "validation_datagen = ImageDataGenerator(rescale = 1./255)\n",
        "\n",
        "train_generator = train_datagen.flow_from_directory(directory=train_dir,\n",
        "\t\t\t\t\t\t\t\t\t\t\t   target_size=(img_width,img_height),\n",
        "\t\t\t\t\t\t\t\t\t\t\t   class_mode='binary',\n",
        "\t\t\t\t\t\t\t\t\t\t\t   batch_size=20)\n",
        "\n",
        "validation_generator = validation_datagen.flow_from_directory(directory=validation_dir,\n",
        "\t\t\t\t\t\t\t\t\t\t\t   target_size=(img_width,img_height),\n",
        "\t\t\t\t\t\t\t\t\t\t\t   class_mode='binary',\n",
        "\t\t\t\t\t\t\t\t\t\t\t   batch_size=20)\n",
        "\n",
        "\n"
      ],
      "execution_count": 20,
      "outputs": [
        {
          "output_type": "stream",
          "text": [
            "Found 2000 images belonging to 2 classes.\n",
            "Found 1000 images belonging to 2 classes.\n"
          ],
          "name": "stdout"
        }
      ]
    },
    {
      "metadata": {
        "id": "PNj36PXplaCx",
        "colab_type": "text"
      },
      "cell_type": "markdown",
      "source": [
        "### 과대적합이 줄어든 것을 볼 수 있다."
      ]
    },
    {
      "metadata": {
        "id": "Cpgy1ZUjHKhU",
        "colab_type": "code",
        "outputId": "e50518e0-c0cf-4f64-9421-1717a6a28830",
        "colab": {
          "base_uri": "https://localhost:8080/",
          "height": 1073
        }
      },
      "cell_type": "code",
      "source": [
        "model.compile(loss='binary_crossentropy',\n",
        "              optimizer=optimizers.RMSprop(lr=2e-5),\n",
        "              metrics=['acc'])\n",
        "\n",
        "\n",
        "history = model.fit_generator(\n",
        "    generator=train_generator, \n",
        "    steps_per_epoch=100,\n",
        "    epochs=30,\n",
        "    validation_data=validation_generator,\n",
        "    validation_steps=50)"
      ],
      "execution_count": 21,
      "outputs": [
        {
          "output_type": "stream",
          "text": [
            "Epoch 1/30\n",
            "100/100 [==============================] - 27s 272ms/step - loss: 0.5984 - acc: 0.6880 - val_loss: 0.4672 - val_acc: 0.7990\n",
            "Epoch 2/30\n",
            "100/100 [==============================] - 25s 249ms/step - loss: 0.4871 - acc: 0.7950 - val_loss: 0.3830 - val_acc: 0.8240\n",
            "Epoch 3/30\n",
            "100/100 [==============================] - 25s 248ms/step - loss: 0.4270 - acc: 0.8025 - val_loss: 0.3432 - val_acc: 0.8520\n",
            "Epoch 4/30\n",
            "100/100 [==============================] - 25s 247ms/step - loss: 0.4077 - acc: 0.8225 - val_loss: 0.3189 - val_acc: 0.8510\n",
            "Epoch 5/30\n",
            "100/100 [==============================] - 25s 247ms/step - loss: 0.3942 - acc: 0.8190 - val_loss: 0.3033 - val_acc: 0.8650\n",
            "Epoch 6/30\n",
            "100/100 [==============================] - 24s 243ms/step - loss: 0.3686 - acc: 0.8420 - val_loss: 0.2884 - val_acc: 0.8650\n",
            "Epoch 7/30\n",
            "100/100 [==============================] - 24s 242ms/step - loss: 0.3600 - acc: 0.8420 - val_loss: 0.2836 - val_acc: 0.8660\n",
            "Epoch 8/30\n",
            "100/100 [==============================] - 24s 243ms/step - loss: 0.3547 - acc: 0.8430 - val_loss: 0.2809 - val_acc: 0.8770\n",
            "Epoch 9/30\n",
            "100/100 [==============================] - 24s 242ms/step - loss: 0.3316 - acc: 0.8545 - val_loss: 0.2761 - val_acc: 0.8810\n",
            "Epoch 10/30\n",
            "100/100 [==============================] - 24s 242ms/step - loss: 0.3384 - acc: 0.8540 - val_loss: 0.2765 - val_acc: 0.8810\n",
            "Epoch 11/30\n",
            "100/100 [==============================] - 24s 241ms/step - loss: 0.3392 - acc: 0.8500 - val_loss: 0.2733 - val_acc: 0.8790\n",
            "Epoch 12/30\n",
            "100/100 [==============================] - 25s 246ms/step - loss: 0.3214 - acc: 0.8615 - val_loss: 0.2669 - val_acc: 0.8860\n",
            "Epoch 13/30\n",
            "100/100 [==============================] - 24s 241ms/step - loss: 0.3212 - acc: 0.8590 - val_loss: 0.2652 - val_acc: 0.8850\n",
            "Epoch 14/30\n",
            "100/100 [==============================] - 24s 243ms/step - loss: 0.3218 - acc: 0.8610 - val_loss: 0.2958 - val_acc: 0.8790\n",
            "Epoch 15/30\n",
            "100/100 [==============================] - 24s 243ms/step - loss: 0.3230 - acc: 0.8530 - val_loss: 0.2711 - val_acc: 0.8920\n",
            "Epoch 16/30\n",
            "100/100 [==============================] - 25s 245ms/step - loss: 0.3137 - acc: 0.8610 - val_loss: 0.2532 - val_acc: 0.8800\n",
            "Epoch 17/30\n",
            "100/100 [==============================] - 24s 244ms/step - loss: 0.3084 - acc: 0.8640 - val_loss: 0.2682 - val_acc: 0.8890\n",
            "Epoch 18/30\n",
            "100/100 [==============================] - 24s 242ms/step - loss: 0.3049 - acc: 0.8615 - val_loss: 0.2543 - val_acc: 0.8860\n",
            "Epoch 19/30\n",
            "100/100 [==============================] - 24s 241ms/step - loss: 0.2944 - acc: 0.8745 - val_loss: 0.2590 - val_acc: 0.8870\n",
            "Epoch 20/30\n",
            "100/100 [==============================] - 24s 242ms/step - loss: 0.2988 - acc: 0.8720 - val_loss: 0.2577 - val_acc: 0.8870\n",
            "Epoch 21/30\n",
            "100/100 [==============================] - 24s 239ms/step - loss: 0.3044 - acc: 0.8650 - val_loss: 0.2657 - val_acc: 0.8940\n",
            "Epoch 22/30\n",
            "100/100 [==============================] - 24s 239ms/step - loss: 0.3047 - acc: 0.8675 - val_loss: 0.2533 - val_acc: 0.8850\n",
            "Epoch 23/30\n",
            "100/100 [==============================] - 24s 244ms/step - loss: 0.2956 - acc: 0.8640 - val_loss: 0.2514 - val_acc: 0.8820\n",
            "Epoch 24/30\n",
            "100/100 [==============================] - 25s 245ms/step - loss: 0.3017 - acc: 0.8645 - val_loss: 0.2656 - val_acc: 0.8910\n",
            "Epoch 25/30\n",
            "100/100 [==============================] - 24s 243ms/step - loss: 0.3006 - acc: 0.8700 - val_loss: 0.2526 - val_acc: 0.8890\n",
            "Epoch 26/30\n",
            "100/100 [==============================] - 24s 240ms/step - loss: 0.2984 - acc: 0.8635 - val_loss: 0.2764 - val_acc: 0.8860\n",
            "Epoch 27/30\n",
            "100/100 [==============================] - 24s 242ms/step - loss: 0.2811 - acc: 0.8770 - val_loss: 0.2541 - val_acc: 0.8880\n",
            "Epoch 28/30\n",
            "100/100 [==============================] - 24s 240ms/step - loss: 0.2805 - acc: 0.8795 - val_loss: 0.2580 - val_acc: 0.8890\n",
            "Epoch 29/30\n",
            "100/100 [==============================] - 25s 249ms/step - loss: 0.2728 - acc: 0.8850 - val_loss: 0.2460 - val_acc: 0.8850\n",
            "Epoch 30/30\n",
            "100/100 [==============================] - 24s 243ms/step - loss: 0.2880 - acc: 0.8735 - val_loss: 0.2810 - val_acc: 0.8930\n"
          ],
          "name": "stdout"
        }
      ]
    },
    {
      "metadata": {
        "id": "5d1NMELUHKd-",
        "colab_type": "code",
        "outputId": "2e8a4e2d-a14f-4fd1-afcd-295556b6e0e0",
        "colab": {
          "base_uri": "https://localhost:8080/",
          "height": 561
        }
      },
      "cell_type": "code",
      "source": [
        "acc = history.history['acc']\n",
        "val_acc = history.history['val_acc']\n",
        "\n",
        "loss = history.history['loss']\n",
        "val_loss = history.history['val_loss']\n",
        "\n",
        "epochs = range(len(acc))\n",
        "\n",
        "plt.plot(epochs, acc)\n",
        "plt.plot(epochs, val_acc)\n",
        "plt.title('Training and validation accuracy')\n",
        "\n",
        "plt.figure()\n",
        "\n",
        "plt.plot(epochs, loss)\n",
        "plt.plot(epochs, val_loss)\n",
        "plt.title('Training and validation loss')"
      ],
      "execution_count": 22,
      "outputs": [
        {
          "output_type": "execute_result",
          "data": {
            "text/plain": [
              "Text(0.5,1,u'Training and validation loss')"
            ]
          },
          "metadata": {
            "tags": []
          },
          "execution_count": 22
        },
        {
          "output_type": "display_data",
          "data": {
            "image/png": "[encoded data removed]",
            "text/plain": [
              "<matplotlib.figure.Figure at 0x7fb37035c350>"
            ]
          },
          "metadata": {
            "tags": []
          }
        },
        {
          "output_type": "display_data",
          "data": {
            "image/png": "[encoded data removed]",
            "text/plain": [
              "<matplotlib.figure.Figure at 0x7fb370325510>"
            ]
          },
          "metadata": {
            "tags": []
          }
        }
      ]
    },
    {
      "metadata": {
        "id": "0qC0I1Xglvbp",
        "colab_type": "text"
      },
      "cell_type": "markdown",
      "source": [
        "## 미세조정 방법\n",
        "- 상위 계층 몇개를 재학습시킨다\n",
        "- 앞에서 소개한 절차, 즉, 전결합망(top)부분을 먼저 학습시킨 후에 상위계층의 미세조정을 해야 한다 (한번에 학습하면 안되고 두 단계로 나누어야 함)\n",
        "\n",
        "         "
      ]
    },
    {
      "metadata": {
        "id": "t5XAI5qT2M8W",
        "colab_type": "code",
        "outputId": "0cdc6284-0d5c-472c-828f-ba0ae81488f5",
        "colab": {
          "base_uri": "https://localhost:8080/",
          "height": 809
        }
      },
      "cell_type": "code",
      "source": [
        "conv_base.summary()"
      ],
      "execution_count": 23,
      "outputs": [
        {
          "output_type": "stream",
          "text": [
            "_________________________________________________________________\n",
            "Layer (type)                 Output Shape              Param #   \n",
            "=================================================================\n",
            "input_1 (InputLayer)         (None, 150, 150, 3)       0         \n",
            "_________________________________________________________________\n",
            "block1_conv1 (Conv2D)        (None, 150, 150, 64)      1792      \n",
            "_________________________________________________________________\n",
            "block1_conv2 (Conv2D)        (None, 150, 150, 64)      36928     \n",
            "_________________________________________________________________\n",
            "block1_pool (MaxPooling2D)   (None, 75, 75, 64)        0         \n",
            "_________________________________________________________________\n",
            "block2_conv1 (Conv2D)        (None, 75, 75, 128)       73856     \n",
            "_________________________________________________________________\n",
            "block2_conv2 (Conv2D)        (None, 75, 75, 128)       147584    \n",
            "_________________________________________________________________\n",
            "block2_pool (MaxPooling2D)   (None, 37, 37, 128)       0         \n",
            "_________________________________________________________________\n",
            "block3_conv1 (Conv2D)        (None, 37, 37, 256)       295168    \n",
            "_________________________________________________________________\n",
            "block3_conv2 (Conv2D)        (None, 37, 37, 256)       590080    \n",
            "_________________________________________________________________\n",
            "block3_conv3 (Conv2D)        (None, 37, 37, 256)       590080    \n",
            "_________________________________________________________________\n",
            "block3_pool (MaxPooling2D)   (None, 18, 18, 256)       0         \n",
            "_________________________________________________________________\n",
            "block4_conv1 (Conv2D)        (None, 18, 18, 512)       1180160   \n",
            "_________________________________________________________________\n",
            "block4_conv2 (Conv2D)        (None, 18, 18, 512)       2359808   \n",
            "_________________________________________________________________\n",
            "block4_conv3 (Conv2D)        (None, 18, 18, 512)       2359808   \n",
            "_________________________________________________________________\n",
            "block4_pool (MaxPooling2D)   (None, 9, 9, 512)         0         \n",
            "_________________________________________________________________\n",
            "block5_conv1 (Conv2D)        (None, 9, 9, 512)         2359808   \n",
            "_________________________________________________________________\n",
            "block5_conv2 (Conv2D)        (None, 9, 9, 512)         2359808   \n",
            "_________________________________________________________________\n",
            "block5_conv3 (Conv2D)        (None, 9, 9, 512)         2359808   \n",
            "_________________________________________________________________\n",
            "block5_pool (MaxPooling2D)   (None, 4, 4, 512)         0         \n",
            "=================================================================\n",
            "Total params: 14,714,688\n",
            "Trainable params: 0\n",
            "Non-trainable params: 14,714,688\n",
            "_________________________________________________________________\n"
          ],
          "name": "stdout"
        }
      ]
    },
    {
      "metadata": {
        "id": "RAUd8YyW2blO",
        "colab_type": "text"
      },
      "cell_type": "markdown",
      "source": [
        "### 위에서 block 5 부분만 미세조정 하겠다"
      ]
    },
    {
      "metadata": {
        "id": "pEVEbvcW2TBl",
        "colab_type": "code",
        "colab": {}
      },
      "cell_type": "code",
      "source": [
        "conv_base.trainable = True\n",
        "\n",
        "set_trainable = False\n",
        "for layer in conv_base.layers:\n",
        "  if layer.name == 'block5_conv1':\n",
        "    set_trainable = True\n",
        "  if set_trainable:\n",
        "    layer.trainable = True\n",
        "  else:\n",
        "    layer.trainable = False"
      ],
      "execution_count": 0,
      "outputs": []
    },
    {
      "metadata": {
        "id": "7uCc31nj3lJq",
        "colab_type": "text"
      },
      "cell_type": "markdown",
      "source": [
        "### 학습률을 작게 조정한다 (천천히 학습하도록)"
      ]
    },
    {
      "metadata": {
        "id": "oEZvEBLt3fZl",
        "colab_type": "code",
        "outputId": "5483f911-6569-48de-c16b-119126ac4fc3",
        "colab": {
          "base_uri": "https://localhost:8080/",
          "height": 1073
        }
      },
      "cell_type": "code",
      "source": [
        "model.compile(loss='binary_crossentropy',\n",
        "              optimizer=optimizers.RMSprop(lr=1e-5),\n",
        "              metrics=['acc'])\n",
        "\n",
        "\n",
        "history = model.fit_generator(\n",
        "    generator=train_generator, \n",
        "    steps_per_epoch=100,\n",
        "    epochs=30,\n",
        "    validation_data=validation_generator,\n",
        "    validation_steps=50)"
      ],
      "execution_count": 25,
      "outputs": [
        {
          "output_type": "stream",
          "text": [
            "Epoch 1/30\n",
            "100/100 [==============================] - 27s 272ms/step - loss: 0.3009 - acc: 0.8700 - val_loss: 0.2799 - val_acc: 0.8940\n",
            "Epoch 2/30\n",
            "100/100 [==============================] - 25s 251ms/step - loss: 0.2572 - acc: 0.8920 - val_loss: 0.3090 - val_acc: 0.8850\n",
            "Epoch 3/30\n",
            "100/100 [==============================] - 25s 248ms/step - loss: 0.2395 - acc: 0.8940 - val_loss: 0.2381 - val_acc: 0.9220\n",
            "Epoch 4/30\n",
            "100/100 [==============================] - 25s 253ms/step - loss: 0.2163 - acc: 0.9070 - val_loss: 0.2266 - val_acc: 0.9220\n",
            "Epoch 5/30\n",
            "100/100 [==============================] - 25s 250ms/step - loss: 0.2221 - acc: 0.9040 - val_loss: 0.1878 - val_acc: 0.9290\n",
            "Epoch 6/30\n",
            "100/100 [==============================] - 25s 251ms/step - loss: 0.1961 - acc: 0.9190 - val_loss: 0.2171 - val_acc: 0.9230\n",
            "Epoch 7/30\n",
            "100/100 [==============================] - 25s 251ms/step - loss: 0.1875 - acc: 0.9210 - val_loss: 0.1720 - val_acc: 0.9420\n",
            "Epoch 8/30\n",
            "100/100 [==============================] - 25s 250ms/step - loss: 0.1727 - acc: 0.9320 - val_loss: 0.1671 - val_acc: 0.9330\n",
            "Epoch 9/30\n",
            "100/100 [==============================] - 25s 250ms/step - loss: 0.1751 - acc: 0.9260 - val_loss: 0.1846 - val_acc: 0.9390\n",
            "Epoch 10/30\n",
            "100/100 [==============================] - 25s 249ms/step - loss: 0.1463 - acc: 0.9365 - val_loss: 0.1950 - val_acc: 0.9390\n",
            "Epoch 11/30\n",
            "100/100 [==============================] - 25s 254ms/step - loss: 0.1565 - acc: 0.9370 - val_loss: 0.1856 - val_acc: 0.9320\n",
            "Epoch 12/30\n",
            "100/100 [==============================] - 25s 251ms/step - loss: 0.1387 - acc: 0.9460 - val_loss: 0.1789 - val_acc: 0.9400\n",
            "Epoch 13/30\n",
            "100/100 [==============================] - 25s 251ms/step - loss: 0.1302 - acc: 0.9460 - val_loss: 0.2845 - val_acc: 0.9270\n",
            "Epoch 14/30\n",
            "100/100 [==============================] - 25s 250ms/step - loss: 0.1445 - acc: 0.9415 - val_loss: 0.1721 - val_acc: 0.9370\n",
            "Epoch 15/30\n",
            "100/100 [==============================] - 25s 249ms/step - loss: 0.1059 - acc: 0.9610 - val_loss: 0.2291 - val_acc: 0.9270\n",
            "Epoch 16/30\n",
            "100/100 [==============================] - 25s 254ms/step - loss: 0.1106 - acc: 0.9560 - val_loss: 0.1747 - val_acc: 0.9430\n",
            "Epoch 17/30\n",
            "100/100 [==============================] - 26s 258ms/step - loss: 0.1164 - acc: 0.9565 - val_loss: 0.1952 - val_acc: 0.9240\n",
            "Epoch 18/30\n",
            "100/100 [==============================] - 26s 258ms/step - loss: 0.1086 - acc: 0.9590 - val_loss: 0.1845 - val_acc: 0.9490\n",
            "Epoch 19/30\n",
            "100/100 [==============================] - 26s 255ms/step - loss: 0.1016 - acc: 0.9640 - val_loss: 0.1874 - val_acc: 0.9400\n",
            "Epoch 20/30\n",
            "100/100 [==============================] - 25s 254ms/step - loss: 0.1019 - acc: 0.9595 - val_loss: 0.1960 - val_acc: 0.9400\n",
            "Epoch 21/30\n",
            "100/100 [==============================] - 25s 253ms/step - loss: 0.0926 - acc: 0.9615 - val_loss: 0.2097 - val_acc: 0.9400\n",
            "Epoch 22/30\n",
            "100/100 [==============================] - 25s 255ms/step - loss: 0.0872 - acc: 0.9655 - val_loss: 0.2009 - val_acc: 0.9330\n",
            "Epoch 23/30\n",
            "100/100 [==============================] - 25s 254ms/step - loss: 0.0843 - acc: 0.9695 - val_loss: 0.1685 - val_acc: 0.9430\n",
            "Epoch 24/30\n",
            "100/100 [==============================] - 26s 257ms/step - loss: 0.0718 - acc: 0.9745 - val_loss: 0.2406 - val_acc: 0.9350\n",
            "Epoch 25/30\n",
            "100/100 [==============================] - 25s 251ms/step - loss: 0.0864 - acc: 0.9695 - val_loss: 0.2955 - val_acc: 0.9210\n",
            "Epoch 26/30\n",
            "100/100 [==============================] - 25s 250ms/step - loss: 0.0784 - acc: 0.9680 - val_loss: 0.2345 - val_acc: 0.9250\n",
            "Epoch 27/30\n",
            "100/100 [==============================] - 25s 248ms/step - loss: 0.0786 - acc: 0.9695 - val_loss: 0.1909 - val_acc: 0.9510\n",
            "Epoch 28/30\n",
            "100/100 [==============================] - 25s 249ms/step - loss: 0.0727 - acc: 0.9745 - val_loss: 0.3036 - val_acc: 0.9210\n",
            "Epoch 29/30\n",
            "100/100 [==============================] - 25s 250ms/step - loss: 0.0719 - acc: 0.9720 - val_loss: 0.1953 - val_acc: 0.9410\n",
            "Epoch 30/30\n",
            "100/100 [==============================] - 25s 250ms/step - loss: 0.0697 - acc: 0.9740 - val_loss: 0.2084 - val_acc: 0.9420\n"
          ],
          "name": "stdout"
        }
      ]
    },
    {
      "metadata": {
        "id": "QCbU7FQU47OP",
        "colab_type": "text"
      },
      "cell_type": "markdown",
      "source": [
        "## 성능이 92%로 1% 정도 향상되었다.\n",
        "- 주의 할 것은 손실함수는 향상되지 않는 것으로 나타나도, 성능이 향상될 수 있다는 것이다. (분류 성능은 어떤 임계값만 넘으면 활률적으로 개선될 수 있다)\n",
        "\n",
        "## 요약\n",
        "- 과대적합을 줄이기 위해서 데이터 확장을 사용\n",
        "- 전이학습 중 특성 추출방식 소개\n",
        "- 전이학습 중 미세조정 방식 소개"
      ]
    },
    {
      "metadata": {
        "id": "8zFN7erS5SEV",
        "colab_type": "code",
        "colab": {}
      },
      "cell_type": "code",
      "source": [
        ""
      ],
      "execution_count": 0,
      "outputs": []
    }
  ]
}